{
  "cells": [
    {
      "cell_type": "markdown",
      "metadata": {
        "id": "BYyqe6eCPu_w"
      },
      "source": [
        "# Intro\n",
        "prowadzący: mgr inż. Dawid Wiśniewski, pokój 2.7.2 (BT), konsultacje - czwartki 15:10-16:40 (proszę o kontakt mailowy z informacją o chęci przybycia/skontaktowania się online). <br/>\n",
        "\n",
        "Zaliczenie laboratoriów:\n",
        "pokazanie przed prowadzącym wykonanych zadań laboratoryjnych w trakcie zajęć lub wysłanie ich po zakończeniu zajęć na adres e-mail dwisniewski@cs.put.poznan.pl. \n",
        "\n",
        "Laboratoria można zaliczyć bez straty punktów do momentu zakończenia kolejnych zajęć laboratoryjnych, następujących po tych na których omawiamy dany temat (czyli jeśli dziś omawiamy dany temat, wysyłając je mailowo do momentu zakończenia kolejnych zajęć). Ponieważ część z Państwa przemieszcza się między grupami laboratoryjnymi, termin ten ustalmy na moment zakończenia **ostatnich** zajęć w danym tygodniu (czwartek, 20:00).\n",
        "\n",
        "Przekroczenie tych terminów skutkuje redukcją uzyskanych punktów o 50%."
      ]
    },
    {
      "cell_type": "markdown",
      "metadata": {
        "id": "g8QVgWZFPu_2"
      },
      "source": [
        "# Lab1: Wyrażenia regularne\n",
        "\n",
        "Poniżej znajduje się kilka przykładów konstrukcji używanych w wyrażeniach regularnych oraz przykładów tekstów które zostaną i nie zostaną dopasowane z użyciem danej konstrukcji.\n",
        "\n",
        "\n",
        "<table>\n",
        "<thead>\n",
        "    <td>Wyrażenie</td>\n",
        "    <td>Komentarz</td>\n",
        "    <td>Przykład dopasowania (<strong>pogrubiony</strong>)</td>\n",
        "    <td>Przykład niedopasowania</td>\n",
        "</thead>\n",
        "\n",
        "<tr>\n",
        "    <td>abc</td>\n",
        "    <td>zwykły ciąg znaków do wyszukania</td>\n",
        "    <td>qw<strong>abc</strong>wer</td>\n",
        "    <td>eedfds</td>\n",
        "</tr>\n",
        "<tr>\n",
        "    <td>[A-Z]</td>\n",
        "    <td>Dowolny znak z zakresu A-Z (wielka litera łacińska)</td>\n",
        "    <td><strong>A</strong>,<strong>B</strong>,<strong>C</strong>,<strong>Z</strong></td>\n",
        "    <td>1938</td>\n",
        "</tr>\n",
        "<tr>\n",
        "    <td>(abc)</td>\n",
        "    <td>Nawias okrągły tworzy grupę. \n",
        "        Grupy wykorzystywane są do specjalnego potraktowania całych podciągów, np. dopasowywania wielokrotnych powtórzeń całych sekwencji znaków. Znaki ( i ) są znakami specjalnymi, nie są wyszukiwane w tekście. Aby dopasować znak ( lub ) bez nadawania mu specjalnego znaczenia, należy poprzedzić go backslashem.</td>\n",
        "    <td><strong>abc</strong></td>\n",
        "    <td>abd</td>\n",
        "</tr>\n",
        "\n",
        "<tr>\n",
        "    <td>(kot|pies)</td>\n",
        "    <td>alternatywa - prezentuje listę możliwych wariantów dopasowań.|</td>\n",
        "    <td><strong>pies</strong>,<strong>kot</strong></td>\n",
        "    <td>koń</td>\n",
        "</tr>\n",
        "<tr>\n",
        "    <td>abc+</td>\n",
        "    <td>Znak + dopasowuje co najmniej 1 wystąpienie znaku lub grupy poprzedzającej ten znak. Większość implementacji interpretuje znaki powtórzeń w sposób zachłanny, dopasowując maksymalnie dużo znaków, tzn. jeśli na tekście \"aaaaaaa\" uruchomimy wyrażenie \"a+\", które szuka co najmniej jednego wystąpienia literki \"a\", cały ten ciąg zostanie zwrócony jako dopasowanie, ponieważ \"aaaaaaa\" jest ciągiem 7 następujących po sobie liter a.\n",
        "      <br/>abc+ - będzie dopasowywać teksty, w których literka c po sekwencji ab jest występuje co najmniej raz. <br/>a(bc)+ - dopasuje teksty, w których po literce a następuje dowolna ilość powtórzonych sekwencji liter (grupy) \"bc\", np. abcbc. <br/>ab[A-Z]+ - dopasuje teksty, w których po literkach ab nastąpi dowolna liczba wielkich liter łacińskich.\n",
        "    </td>\n",
        "    <td><strong>abccc</strong></td>\n",
        "    <td>abd</td>\n",
        "</tr>\n",
        "<tr>\n",
        "    <td>abc*</td>\n",
        "    <td>Podobnie do przykładu ze znakiem plus, jednakże znak * oznacza zero, lub więcej wystąpień (w tym przypadku literki c) </td>\n",
        "    <td><strong>ab</strong>efgh, <strong>abcc</strong>d, <strong>abc</strong></td>\n",
        "    <td>accc</td></tr>\n",
        "<tr>\n",
        "    <td>colou?r</td>\n",
        "    <td>Znak ? podobnie jak * i + działa jako wskazanie na liczbę powtórzeń poprzedzającego znaku bądź grupy. W odróżnieniu od poprzednio wymienionych jednak, znak ? oznacza, że znak/grupa \"może, ale nie musi wystąpić 1 raz\"</td>\n",
        "    <td><strong>color</strong>, <strong>colour</strong></td>\n",
        "    <td>cokolwiek innego niż w kolumnie obok</td>\n",
        "</tr>\n",
        "<tr>\n",
        "    <td>a(bc){2,4}</td>\n",
        "    <td>Tutaj również rozważamy powtórzenia poprzedniego znaku bądź grupy. pierwsza liczba w nawiasie oznacza minimalną wymaganą liczbę wystąpień znaku/grupy, druga liczba oznacza maksymalną akceptowalną liczbę wystąpien znaku/grupy. </td>\n",
        "    <td><strong>abcbcbc</strong></td>\n",
        "    <td>abc, def</td>\n",
        "</tr>\n",
        "<tr>\n",
        "    <td>.+</td>\n",
        "    <td>Znak kropki dopasowuje dowolny znak. Jeśli po nim nastąpi znak +, to wyrażenie dopasuje dowolny ciąg znaków</td>\n",
        "    <td><strong>dopasuje np. taki tekst w całości</strong></td>\n",
        "    <td></td>\n",
        "</tr>\n",
        "<tr>\n",
        "    <td>(?P&lt;nazwa&gt;abc)</td>\n",
        "    <td>Grupa nazwana - dopasowany wzorzec, np. abc zapisywany jest pod zmienną o nazwie nazwa, która może służyć do ekstrakcji fragmentów wyrażenia (patrz zad. 3)</td>\n",
        "    <td><strong>abc</strong></td>\n",
        "    <td>efg</td>\n",
        "</tr>\n",
        "<tr>\n",
        "    <td>^abc</td>\n",
        "    <td>Znacznik początku linii ^ wymaga, aby wzorzec abc został dopasowany na poczatku linii. Jeśli ciąg abc zostanie napotkany w dalszej części tekstu - nie zostanie dopasowany</td>\n",
        "    <td><strong>abc</strong>dabc</td>\n",
        "    <td>dabc</td>\n",
        "</tr>\n",
        "<tr>\n",
        "    <td>abc\\$</td>\n",
        "    <td>Znacznik końca linii \\$ wymaga, aby wzorzec abc został dopasowany na końcu linii. Jeśli ciąg abc zostanie napotkany we wcześniejszej części tekstu - nie zostanie dopasowany</td>\n",
        "    <td>abcd<strong>abc</strong></td>\n",
        "    <td>abcd</td>\n",
        "</tr>\n",
        "<tr>\n",
        "    <td>\\babc\\b</td>\n",
        "    <td>Tzw. 'word boundary', Jeśli dany wzorzec otoczymy znakami specjalnymi \\b - wzorzec zostanie dopasowany jedynie w przypadku, kiedy bezpośrednio przed i za wzorcem nie ma liter (innymi słowy word boundary zapewnia, że dopasujemy całe słowa, a nie podciągi słów</td>\n",
        "    <td><strong>abc</strong> defabc</td><td>abcdef</td></tr>\n",
        "</table>\n"
      ]
    },
    {
      "cell_type": "markdown",
      "metadata": {
        "id": "O33NFSCHPu_3"
      },
      "source": [
        "Przykłady powyżej ilustrują nam, że niektóre znaki, takie jak litery i cyfry są interpretowane przez wyrażenia regularne jako zwykłe znaki. Inne natomiast mają specjalne znaczenie (np.: .*?{}()-^\\$). Czasem jednak chcielibyśmy, aby któryś ze znaków specjalnych został potraktowany tak jak zwykły znak, gdyż chcielbyśmy dopasować np. znak gwiazki. Aby sprawić, że znak specjalny będzie interpretowany jako zwykły - należy poprzedzić wystąpienie tego znaku backslashem. (np.: \\\\+)\n",
        "\n",
        "Przykłady ciekawych wyrażeń regularnych:\n",
        "<ul>\n",
        "    <li>Parsowanie przykładowego hasła na stronie: ^[a-z0-9_]{6,18}\\$; - wymagaj, aby tekst (linia) zaczynał sie(^) od ciągu od 6 do 18 wystąpień ({6,18}) znaków, które należą do zbioru - małych liter(a-z), cyfr(0-9) i podkreślników. Po takiej sekwencji nastąpić powinien koniec tekstu (linii) (`$`). Przykład dopasującego się tekstu: <strong>a8dccc__2</strong></li>\n",
        "    <li>Ekstakcja kodów kolorów, zapisanych w postaci heksadecymalnej: \\b#[0-9a-fA-F]{6}\\b - dopasuj ciąg rozpoczynający się znakiem \"płotek\" (#), po którym nastąpi 6 znaków, spośród których każdy jest cyfrą, małą literą z zakresu a-f lub wielką literą z zakresu A-F. Ciąg nie może być podciągiem istniejącego ciągu liter (\\b), tylko odrębnym słowem. Przykład dopasowania: <strong>#AABB4C</strong>\n",
        "</ul>"
      ]
    },
    {
      "cell_type": "markdown",
      "metadata": {
        "id": "wlqHptDjPu_3"
      },
      "source": [
        "# Zadadnie 1 (1 punkt): Proste wyrażenia regularne\n",
        "\n",
        "<div class=\"alert alert-block alert-info\">Stwórz wyrażenie regularne (przypisz do zmiennej REGEX jedno wyrażenie), które dopasuje wszystkie wyrazy zaczynające się z wielkiej litery, będące długości co najmniej 4, a co najwyżej 6 znaków. Dopasowany tekst powinien: \n",
        "<ol>\n",
        "       <li> Posiadać jedną wielką literę (początkową). </li>\n",
        "       <li> Każda kolejna litera powinna być małą literą. </li>\n",
        "       <li> Dopasowany tekst nie powinien zawierać znaków innych niż litery. </li>\n",
        "</ol>\n",
        "</div>"
      ]
    },
    {
      "cell_type": "markdown",
      "metadata": {
        "id": "lk6FUGafPu_3"
      },
      "source": [
        "<div class=\"alert alert-block alert-success\">\n",
        "<strong>Oczekiwany rezultat:</strong> <br/>\n",
        "dopasowano: Anna <br/>\n",
        "dopasowano: Reddit\n",
        "</div>"
      ]
    },
    {
      "cell_type": "code",
      "execution_count": 6,
      "metadata": {
        "colab": {
          "base_uri": "https://localhost:8080/",
          "height": 0
        },
        "id": "b9_05nPLPu_4",
        "outputId": "58c49d3d-300a-456e-8f8d-e4884c6fc39e"
      },
      "outputs": [
        {
          "name": "stdout",
          "output_type": "stream",
          "text": [
            "dopasowano: Anna\n",
            "dopasowano: Reddit\n"
          ]
        }
      ],
      "source": [
        "# Zadanie 1\n",
        "import re\n",
        "\n",
        "test_words = ['zebra', 'krowa', 'Bitcoin', 'Anna', 'Peer2Peer', 'Reddit']\n",
        "\n",
        "REGEX = r'\\b^[A-Z][a-z]{3,5}\\b'  # tu stwórz wyrażenie regularne\n",
        "\n",
        "for word in test_words:\n",
        "    if re.search(REGEX, word):\n",
        "        print(\"dopasowano: {w}\".format(w=word))"
      ]
    },
    {
      "cell_type": "markdown",
      "metadata": {
        "id": "QED6ITA5Pu_4"
      },
      "source": [
        "---\n",
        "# Zadanie 2 (1 punkt): Czyszczenie tekstu\n",
        "<div class=\"alert alert-block alert-info\">Utwórz wyrażenie regularne w zmiennej REGEX(jedno), z użyciem którego dopasujemy tagi HTML, które zostaną usunięte z użyciem funkcji re.sub. <br/>Funkcja re.sub (substitute) przyjmuje trzy parametry: \n",
        "    <ol>\n",
        "           <li>Jaki wzorzec powinien zostać dopasowany w celu podmiany na inny tekst.</li>\n",
        "           <li>Czym podmienić dopasowania (w naszym przypadku pusty ciąg znaków, gdyż chcemy usunąć tagi). </li>\n",
        "           <li>Zmienną zawierającą tekst, w którym będziemy szukać.</li>\n",
        "    </ol>\n",
        "           \n",
        "<strong>Wskazówka:</strong> Domyślnie, wyrażenia regularne działają zachłannie, tzn. próbują dopasować jak najdłuższy możliwy tekst. Dla wyrażenia a.\\*a i tekstu: \"analfabeta\" dopasowany zostanie cały tekst - ciąg .\\* dopasuje najdłuższą możliwą sekwencję znaków, po której następuje literka a i która poprzedzona jest literką a. <br/>\n",
        "Można jednak zmodyfikować to wyrażenie tak, aby poszukać najkrótszych możliwych (rozłącznych) ciągów, które opisane są przez wzorzec. W naszym przykładzie będzie to: ana oraz abeta. Aby to osiągnąć, po znaku gwiazdki musimy dodać znak zapytania: a.\\*?a we wzorcu.\n",
        "</div>"
      ]
    },
    {
      "cell_type": "markdown",
      "metadata": {
        "id": "O-kOfZMbPu_4"
      },
      "source": [
        "<div class=\"alert alert-block alert-success\">\n",
        "    <strong>Oczekiwany rezultat:</strong> <br/>\n",
        "1. To jest tytul 2. A to - Link do google.\n",
        "</div>"
      ]
    },
    {
      "cell_type": "code",
      "execution_count": 7,
      "metadata": {
        "colab": {
          "base_uri": "https://localhost:8080/",
          "height": 0
        },
        "id": "WLjy8esbPu_5",
        "outputId": "50689f36-a93e-41d6-ef9d-4472366316db"
      },
      "outputs": [
        {
          "name": "stdout",
          "output_type": "stream",
          "text": [
            "1. To jest tytul 2. A to - link do google.\n"
          ]
        }
      ],
      "source": [
        "# Zadanie 2\n",
        "import re\n",
        "html_text = \"<h1>1. To jest tytul </h1><ul><li class='link'><a href='www.google.pl'>2. A to - link do google.</a></li></ul>\"\n",
        "\n",
        "REGEX = r'\\<.*?\\>'   # tu wpisz wyrażenie\n",
        "\n",
        "print(re.sub(REGEX, '', html_text))"
      ]
    },
    {
      "cell_type": "markdown",
      "metadata": {
        "id": "6tFBVNxRPu_5"
      },
      "source": [
        "---\n",
        "\n",
        "# Zadanie 3 (1 punkt): Ekstrakcja informacji\n",
        "\n",
        "<div class=\"alert alert-block alert-info\">Wykorzystując mechanizm grup nazwanych (patrz tabelka na początku dokumentu), napisz wyrażenie regularne, które z zadanego adresu url wyekstrahuje nazwy zmiennych oraz ich wartości (wzorce typu ?nazwa_zmiennej=wartosc_zmiennej). Częścią zadania jest stworzenie dwóch grup nazwanych - pierwsza powinna otrzymać nazwę \"name\", druga zaś \"val\". Nazwy te wykorzystane są później przy wyświetlaniu wyników (patrz: funkcja print). <br/>\n",
        "Uznajmy, że nazwą zmiennej oraz wartością może być dowolny ciąg liter oraz cyfr.</div>"
      ]
    },
    {
      "cell_type": "markdown",
      "metadata": {
        "id": "_Lv_pq6kPu_5"
      },
      "source": [
        "<div class=\"alert alert-block alert-success\">\n",
        "<strong>Oczekiwany rezultat:</strong> <br/>\n",
        "Variable name: id, value: 1254 <br/>\n",
        "Variable name: name, value: Mike <br/>\n",
        "Variable name: surname, value: Tyson <br/>\n",
        "</div>"
      ]
    },
    {
      "cell_type": "code",
      "execution_count": 10,
      "metadata": {
        "colab": {
          "base_uri": "https://localhost:8080/",
          "height": 0
        },
        "id": "2Xv_GaPjPu_5",
        "outputId": "f71ac8c2-dadb-4762-b876-2b1f0af909a6"
      },
      "outputs": [
        {
          "name": "stdout",
          "output_type": "stream",
          "text": [
            "Variable name: id, value: 1254\n",
            "Variable name: name, value: Mike\n",
            "Variable name: surname, value: Tyson\n"
          ]
        }
      ],
      "source": [
        "# Zadanie 3\n",
        "import re\n",
        "\n",
        "url = \"http://html.net/page.php?id=1254?name=Mike?surname=Tyson\"\n",
        "\n",
        "REGEX = r'\\?(?P<name>[0-9a-zA-Z]+)=(?P<val>[0-9a-zA-Z]+)'\n",
        "\n",
        "for match in re.finditer(REGEX, url):\n",
        "    print(\"Variable name: {name}, value: {val}\".format(\n",
        "        name=match.group('name'), val=match.group('val')\n",
        "    ))"
      ]
    },
    {
      "cell_type": "markdown",
      "metadata": {
        "id": "owfOZClqPu_6"
      },
      "source": [
        "---\n",
        "\n",
        "# Zadanie 4 (2 punkty): Niejednoznaczny tekst\n",
        "\n",
        "<div class=\"alert alert-block alert-info\">\n",
        "Największa trudność w przetwarzaniu języka wynika z faktu, że język jest często wieloznaczny. Dla przykładu: kropka nie zawsze oznacza koniec zdania, czasem jest częścią np. skrótu. Dla przykładowego tekstu zaproponowano wyrażenie regularne, które można zinterpretować w następujący sposób: \n",
        "\n",
        "<br/>\n",
        "\n",
        "Dopasuj wszystkie ciągi znaków zakończone kropką (niezachłannie [patrz wskazówka do zadania 2], szukamy \"najbliższej\" kropki). Następnie używamy mechanizmu \"positive lookahead\" https://www.regular-expressions.info/lookaround.html, aby podejrzeć jaki tekst występuje za kropką. Jeśli za kropką widzimy jeden z ciągów: \n",
        "<ul>\n",
        "<li>spacja, dowolna litera</li>\n",
        "<li>koniec tekstu </li>\n",
        "</ul>\n",
        "to uznajemy tę kropkę za koniec zdania.\n",
        "<br/>\n",
        "Tekst dopasowany przez positive lookahead nie stanowi części dopasowania, jest tylko weryfikacją, czy to, co znajduje się po dopasowaniu pozwala nam zatwierdzić decyzję czy nie (jeśli po kropce nie dopasuje się positive lookahead, wyrażenie nie wykryje tam końca zdania).\n",
        "\n",
        "<br/>\n",
        "<strong>Zadanie (a) (1 punkt)</strong>: Spróbuj zmodyfikować to wyrażenie tak, aby dopasowywało pełne, poprawne zdania. Czy udało się poprawnie podzielić tekst?<br/>\n",
        "<strong>Zaliczenie zadania</strong>: zmodyfikować wyrażanie tak, aby poprawnie podzielił on zadany tekst na zdania (bez listowania wsystkich napotkanych skrótów jako część wyrażenia!), bądź napisanie wyjaśnienia dlaczego podejście oparte o wyrażenia się nie sprawdzi jako komentarz w kodzie.\n",
        "</div>"
      ]
    },
    {
      "cell_type": "code",
      "execution_count": 11,
      "metadata": {
        "colab": {
          "base_uri": "https://localhost:8080/",
          "height": 0
        },
        "id": "mV_LaSZMPu_6",
        "outputId": "545cb9cc-83ee-44ad-e707-fa971f3b4e13"
      },
      "outputs": [
        {
          "name": "stdout",
          "output_type": "stream",
          "text": [
            "Dear Mr. Nowak, I would like to invite you to a conference in the U.S.A.\n",
            " The conference will start on Wed. the 7th of March and will end on Sat. 10 of March.\n",
            " The conference location is Warsaw, Poland.\n",
            " The keynote speaker will be M.D. Obama.\n"
          ]
        }
      ],
      "source": [
        "import re\n",
        "\n",
        "text = \"Dear Mr. Nowak, I would like to invite you to a conference in the U.S.A. The conference will start on Wed. the 7th of March and will end on Sat. 10 of March. The conference location is Warsaw, Poland. The keynote speaker will be M.D. Obama.\"\n",
        "\n",
        "REGEX = r'.*?\\.(?=( The|$))' \n",
        "# Komentarz:\n",
        "# Zdecydowałem się na pójście po najmniejszej linii oporu. Jako że w powyższym przykładzie każde kolejne zdanie zaczyna się od słowa 'The', użyłem go w swoim wyrażeniu REGEX.\n",
        "# Oczywiście takie wyrażenie nie będzie działać w innych przypadkach. W odróżnieniu od adresów url z poprzedniego ćwiczenia, tekst pisany nie jest schematyczny.\n",
        "# Może pojawić się w nim wiele skrótów (ul.), tytułów naukowych (dr hab., inż.) czy nawet inicjałów imion, po których z reguły występują wyrazy zaczynające się z dużej litery.\n",
        "# Aby uwzględnić wszystkie takie przypadki, potrzeba by było naprawdę długiego wyrażenia regularnego.\n",
        "\n",
        "for match in re.finditer(REGEX, text):\n",
        "    print(match.group(0))"
      ]
    },
    {
      "cell_type": "markdown",
      "metadata": {
        "id": "wXSubt04Pu_7"
      },
      "source": [
        "<div class=\"alert alert-block alert-info\">\n",
        "Zadań tak powtarzalnych jak podział tekstu na zdania, słowa itp. zazwyczaj nie implementuje się od \"zera\". Istnieją narzędzia, które są szeroko wykorzystywane do przetwarzania języka, np:\n",
        "<ul>\n",
        "    <li>SpaCy - https://spacy.io - stosunkowo nowe, zyskujące na popularności narzędzie. Wiele rzeczy działa dobrze bez zbędnej konfiguracji</li>\n",
        "    <li>NLTK - http://www.nltk.org - bardzo dojrzałe narzędzie wykorzystywane głównie do celów naukowych, zawierające wiele korpusów tekstowych.\n",
        "</ul>\n",
        "Zarówno SpaCy jak i NLTK zawierają narzędzia pozwalające na rozwiązanie większości podstawowych problemów przetwarzania języka (tokenizacja, podział na zdania, POS-tagging, wykrywanie encji nazwanych (NER) i inne).\n",
        "<br/>\n",
        "    <strong>Zadanie (b) (1 punkt)</strong>: Korzystając z dokumentacji, spróbuj podzielić na zdania zadany tekst z użyciem zarówno NLTK jak i SpaCy (fraza-klucz: \"sentence splitting\"). \n",
        "<br/>Które narzędzie poradziło sobie lepiej? Czy oba/którekolwiek narzędzie wykonało to zadanie popranie? (Pamiętajmy, że zdania takie jak zadane są bardzo specyficznymi przykładami, mającymi pokazać trudność procedury - zazwyczaj narzędzia radzą sobie naprawdę dobrze). <br/>\n",
        "    <strong>Zaliczenie zadania</strong>: poprawne wykorzystanie funkcji do podziału tekstu z obu bibliotek i wyświetlenie poszczególnych zdań w osobnych linijkach. Jakość podziału nie jest oceniana.\n",
        "    \n",
        "<strong>UWAGA: Jeśli na komputerze z którego korzystasz nie udało się załadować modelu SpaCy, wykonaj zadanie jedynie z użyciem NLTK. </strong>\n",
        "</div>"
      ]
    },
    {
      "cell_type": "code",
      "execution_count": 12,
      "metadata": {
        "id": "F6Eimul5Pu_8"
      },
      "outputs": [],
      "source": [
        "text = \"Dear Mr. Nowak, I would like to invite you to a conference in the U.S.A. The conference will start on Wed., the 7th of March and will end on Sat., the 10th of March. The conference location is Warsaw, Poland. The keynote speaker will be M.D. Mark Obama.\""
      ]
    },
    {
      "cell_type": "code",
      "execution_count": 13,
      "metadata": {
        "colab": {
          "base_uri": "https://localhost:8080/",
          "height": 0
        },
        "id": "sNidRn1RCPVG",
        "outputId": "fcf80855-e314-4279-ffec-e55c9e35143f"
      },
      "outputs": [
        {
          "name": "stdout",
          "output_type": "stream",
          "text": [
            "Dear Mr. Nowak, I would like to invite you to a conference in the U.S.A.\n",
            "The conference will start on Wed., the 7th of March and will end on Sat., the 10th of March.\n",
            "The conference location is Warsaw, Poland.\n",
            "The keynote speaker will be M.D. Mark Obama.\n"
          ]
        }
      ],
      "source": [
        "import spacy\n",
        "nlp = spacy.load(\"en_core_web_sm\")\n",
        "doc = nlp(text)\n",
        "for sent in doc.sents:\n",
        "    print(sent.text)"
      ]
    },
    {
      "cell_type": "code",
      "execution_count": 14,
      "metadata": {
        "id": "WPKkqddJsS1Q"
      },
      "outputs": [],
      "source": [
        "# SpaCy wykonało zadanie poprawnie."
      ]
    },
    {
      "cell_type": "code",
      "execution_count": 15,
      "metadata": {
        "colab": {
          "base_uri": "https://localhost:8080/",
          "height": 0
        },
        "id": "UjauqdlJF9sd",
        "outputId": "ffd83c6f-cc06-41c3-985b-920600d09ced"
      },
      "outputs": [
        {
          "name": "stdout",
          "output_type": "stream",
          "text": [
            "[nltk_data] Downloading package punkt to /root/nltk_data...\n",
            "[nltk_data]   Unzipping tokenizers/punkt.zip.\n"
          ]
        }
      ],
      "source": [
        "import nltk\n",
        "nltk.download('punkt')\n",
        "from nltk.tokenize import sent_tokenize"
      ]
    },
    {
      "cell_type": "code",
      "execution_count": 16,
      "metadata": {
        "colab": {
          "base_uri": "https://localhost:8080/",
          "height": 0
        },
        "id": "ACwvRAOKErB0",
        "outputId": "b6e68871-ab73-49d6-9d7a-73c68b7c6738"
      },
      "outputs": [
        {
          "name": "stdout",
          "output_type": "stream",
          "text": [
            "Dear Mr. Nowak, I would like to invite you to a conference in the U.S.A.\n",
            "The conference will start on Wed., the 7th of March and will end on Sat., the 10th of March.\n",
            "The conference location is Warsaw, Poland.\n",
            "The keynote speaker will be M.D.\n",
            "Mark Obama.\n"
          ]
        }
      ],
      "source": [
        "for s in sent_tokenize(text):\n",
        "  print(s)"
      ]
    },
    {
      "cell_type": "code",
      "execution_count": 17,
      "metadata": {
        "id": "qZC50mUCscc_"
      },
      "outputs": [],
      "source": [
        "# NLTK nie udało się sklasyfikować M.D. jako tytułu naukowego(?) przez co zdanie zostało podzielone na dwie części."
      ]
    },
    {
      "cell_type": "markdown",
      "metadata": {
        "id": "Y3knb4-fPu_8"
      },
      "source": [
        "---\n",
        "\n",
        "# Zadanie 5 (0 punktów, ale ciekawe): Wyszukiwanie naiwne vs REGEX - czas działania\n",
        "\n",
        "<div class=\"alert alert-block alert-info\">\n",
        "Kiedy wykorzystujemy wzorzec wyrażenia regularnego, zostaje on zamieniony z postaci tekstowej na odpowiedni automat w pamięci. Proces takiej zamiany nazywamy kompilacją. <br/>Jeśli dane wyrażenie regularne jest często wykorzystywane, dobrą praktyką jest, aby skompilować je raz do postaci automatu - następnie używać wersji skompilowanej (patrz użycie <strong>re.compile()</strong> w zadaniu). Jeśli nie skompilujemy wyrażenia i użyjemy go w formie tekstowej (jak w poprzednich zadaniach) - każde wykorzystanie wyrażenia spowoduje przebudowanie automatu. <br/>\n",
        "W poniższym kodzie porównujemy dwie metody wyszukiwania w tekście. W dużym korpusie tekstowym (biblia), chcielibyśmy sprawdzić jakie imiona męskie i żeńskie występują w księdze. W tym celu stworzono listę 2000 najczęściej nadawanych imion w 2017 roku w USA (zapisanej w liście: names) i użyto dwóch metod:\n",
        "<ol>\n",
        "    <li>Naiwnej, w której iterujemy po imionach i sprawdzamy, które z nich występują w tekście</li>\n",
        "    <li>Opartej o wyrażenie regularne, w którym jeden automat wyszukuje wszystkie imiona w jednym przebiegu. </li>\n",
        "</ol>\n",
        "\n",
        "W tym zadaniu nie trzeba pisać kodu, po prostu przeanalizuj kod, następnie uruchom go i zaobswerwuj różnicę :)\n",
        "</div>"
      ]
    },
    {
      "cell_type": "code",
      "execution_count": 18,
      "metadata": {
        "colab": {
          "base_uri": "https://localhost:8080/",
          "height": 109,
          "resources": {
            "http://localhost:8080/nbextensions/google.colab/files.js": {
              "data": "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",
              "headers": [
                [
                  "content-type",
                  "application/javascript"
                ]
              ],
              "ok": true,
              "status": 200,
              "status_text": ""
            }
          }
        },
        "id": "T6PP8NEUG9MJ",
        "outputId": "1b08ac8f-dd20-4e88-b17e-cb486061d4ce"
      },
      "outputs": [
        {
          "data": {
            "text/html": [
              "\n",
              "     <input type=\"file\" id=\"files-5b7cd4ef-adf8-466b-a7a3-b85e1ad45936\" name=\"files[]\" multiple disabled\n",
              "        style=\"border:none\" />\n",
              "     <output id=\"result-5b7cd4ef-adf8-466b-a7a3-b85e1ad45936\">\n",
              "      Upload widget is only available when the cell has been executed in the\n",
              "      current browser session. Please rerun this cell to enable.\n",
              "      </output>\n",
              "      <script src=\"/nbextensions/google.colab/files.js\"></script> "
            ],
            "text/plain": [
              "<IPython.core.display.HTML object>"
            ]
          },
          "metadata": {
            "tags": []
          },
          "output_type": "display_data"
        },
        {
          "name": "stdout",
          "output_type": "stream",
          "text": [
            "Saving names.txt to names.txt\n"
          ]
        },
        {
          "data": {
            "text/plain": [
              "{'names.txt': b'Noah\\nLiam\\nMason\\nJacob\\nWilliam\\nEthan\\nJames\\nAlexander\\nMichael\\nBenjamin\\nElijah\\nDaniel\\nAiden\\nLogan\\nMatthew\\nLucas\\nJackson\\nDavid\\nOliver\\nJayden\\nJoseph\\nGabriel\\nSamuel\\nCarter\\nAnthony\\nJohn\\nDylan\\nLuke\\nHenry\\nAndrew\\nIsaac\\nChristopher\\nJoshua\\nWyatt\\nSebastian\\nOwen\\nCaleb\\nNathan\\nRyan\\nJack\\nHunter\\nLevi\\nChristian\\nJaxon\\nJulian\\nLandon\\nGrayson\\nJonathan\\nIsaiah\\nCharles\\nThomas\\nAaron\\nEli\\nConnor\\nJeremiah\\nCameron\\nJosiah\\nAdrian\\nColton\\nJordan\\nBrayden\\nNicholas\\nRobert\\nAngel\\nHudson\\nLincoln\\nEvan\\nDominic\\nAustin\\nGavin\\nNolan\\nParker\\nAdam\\nChase\\nJace\\nIan\\nCooper\\nEaston\\nKevin\\nJose\\nTyler\\nBrandon\\nAsher\\nJaxson\\nMateo\\nJason\\nAyden\\nZachary\\nCarson\\nXavier\\nLeo\\nEzra\\nBentley\\nSawyer\\nKayden\\nBlake\\nNathaniel\\nRyder\\nTheodore\\nElias\\nTristan\\nRoman\\nLeonardo\\nCamden\\nBrody\\nLuis\\nMiles\\nMicah\\nVincent\\nJustin\\nGreyson\\nDeclan\\nMaxwell\\nJuan\\nCole\\nDamian\\nCarlos\\nMax\\nHarrison\\nWeston\\nBrantley\\nBraxton\\nAxel\\nDiego\\nAbel\\nWesley\\nSantiago\\nJesus\\nSilas\\nGiovanni\\nBryce\\nJayce\\nBryson\\nAlex\\nEverett\\nGeorge\\nEric\\nIvan\\nEmmett\\nKaiden\\nAshton\\nKingston\\nJonah\\nJameson\\nKai\\nMaddox\\nTimothy\\nEzekiel\\nRyker\\nEmmanuel\\nHayden\\nAntonio\\nBennett\\nSteven\\nRichard\\nJude\\nLuca\\nEdward\\nJoel\\nVictor\\nMiguel\\nMalachi\\nKing\\nPatrick\\nKaleb\\nBryan\\nAlan\\nMarcus\\nPreston\\nAbraham\\nCalvin\\nColin\\nBradley\\nJeremy\\nKyle\\nGraham\\nGrant\\nJesse\\nKaden\\nAlejandro\\nOscar\\nJase\\nKarter\\nMaverick\\nAidan\\nTucker\\nAvery\\nAmir\\nBrian\\nIker\\nMatteo\\nCaden\\nZayden\\nRiley\\nAugust\\nMark\\nMaximus\\nBrady\\nKenneth\\nPaul\\nJaden\\nNicolas\\nBeau\\nDean\\nJake\\nPeter\\nXander\\nElliot\\nFinn\\nDerek\\nSean\\nCayden\\nElliott\\nJax\\nJasper\\nLorenzo\\nOmar\\nBeckett\\nRowan\\nGael\\nCorbin\\nWaylon\\nMyles\\nTanner\\nJorge\\nJavier\\nZion\\nAndres\\nCharlie\\nPaxton\\nEmiliano\\nBrooks\\nZane\\nSimon\\nJudah\\nGriffin\\nCody\\nGunner\\nDawson\\nIsrael\\nRylan\\nGage\\nMessiah\\nRiver\\nKameron\\nStephen\\nFrancisco\\nClayton\\nZander\\nChance\\nEduardo\\nSpencer\\nLukas\\nDamien\\nDallas\\nConner\\nTravis\\nKnox\\nRaymond\\nPeyton\\nDevin\\nFelix\\nJayceon\\nCollin\\nAmari\\nErick\\nCash\\nJaiden\\nFernando\\nCristian\\nJosue\\nKeegan\\nGarrett\\nRhett\\nRicardo\\nMartin\\nReid\\nSeth\\nAndre\\nCesar\\nTitus\\nDonovan\\nManuel\\nMario\\nCaiden\\nAdriel\\nKyler\\nMilo\\nArcher\\nJeffrey\\nHolden\\nArthur\\nKarson\\nRafael\\nShane\\nLane\\nLouis\\nAngelo\\nRemington\\nTroy\\nEmerson\\nMaximiliano\\nHector\\nEmilio\\nAnderson\\nTrevor\\nPhoenix\\nWalter\\nJohnathan\\nJohnny\\nEdwin\\nJulius\\nBarrett\\nLeon\\nTyson\\nTobias\\nEdgar\\nDominick\\nMarshall\\nMarco\\nJoaquin\\nDante\\nAndy\\nCruz\\nAli\\nFinley\\nDalton\\nGideon\\nReed\\nEnzo\\nSergio\\nJett\\nThiago\\nKyrie\\nRonan\\nCohen\\nColt\\nErik\\nTrenton\\nJared\\nWalker\\nLanden\\nAlexis\\nNash\\nJaylen\\nGregory\\nEmanuel\\nKillian\\nAllen\\nAtticus\\nDesmond\\nShawn\\nGrady\\nQuinn\\nFrank\\nFabian\\nDakota\\nRoberto\\nBeckham\\nMajor\\nSkyler\\nNehemiah\\nDrew\\nCade\\nMuhammad\\nKendrick\\nPedro\\nOrion\\nAden\\nKamden\\nRuben\\nZaiden\\nClark\\nNoel\\nPorter\\nSolomon\\nRomeo\\nRory\\nMalik\\nDaxton\\nLeland\\nKash\\nAbram\\nDerrick\\nKade\\nGunnar\\nPrince\\nBrendan\\nLeonel\\nKason\\nBraylon\\nLegend\\nPablo\\nJay\\nAdan\\nJensen\\nEsteban\\nKellan\\nDrake\\nWarren\\nIsmael\\nAri\\nRussell\\nBruce\\nFinnegan\\nMarcos\\nJayson\\nTheo\\nJaxton\\nPhillip\\nDexter\\nBraylen\\nArmando\\nBraden\\nCorey\\nKolton\\nGerardo\\nAce\\nEllis\\nMalcolm\\nTate\\nZachariah\\nChandler\\nMilan\\nKeith\\nDanny\\nDamon\\nEnrique\\nJonas\\nKane\\nPrinceton\\nHugo\\nRonald\\nPhilip\\nIbrahim\\nKayson\\nMaximilian\\nLawson\\nHarvey\\nAlbert\\nDonald\\nRaul\\nFranklin\\nHendrix\\nOdin\\nBrennan\\nJamison\\nDillon\\nBrock\\nLandyn\\nMohamed\\nBrycen\\nDeacon\\nColby\\nAlec\\nJulio\\nScott\\nMatias\\nSullivan\\nRodrigo\\nCason\\nTaylor\\nRocco\\nNico\\nRoyal\\nPierce\\nAugustus\\nRaiden\\nKasen\\nBenson\\nMoses\\nCyrus\\nRaylan\\nDavis\\nKhalil\\nMoises\\nConor\\nNikolai\\nAlijah\\nMathew\\nKeaton\\nFrancis\\nQuentin\\nTy\\nJaime\\nRonin\\nKian\\nLennox\\nMalakai\\nAtlas\\nJerry\\nRyland\\nAhmed\\nSaul\\nSterling\\nDennis\\nLawrence\\nZayne\\nBodhi\\nArjun\\nDarius\\nArlo\\nEden\\nTony\\nDustin\\nKellen\\nChris\\nMohammed\\nNasir\\nOmari\\nKieran\\nNixon\\nRhys\\nArmani\\nArturo\\nBowen\\nFrederick\\nCallen\\nLeonidas\\nRemy\\nWade\\nLuka\\nJakob\\nWinston\\nJustice\\nAlonzo\\nCurtis\\nAarav\\nGustavo\\nRoyce\\nAsa\\nGannon\\nKyson\\nHank\\nIzaiah\\nRoy\\nRaphael\\nLuciano\\nHayes\\nCase\\nDarren\\nMohammad\\nOtto\\nLayton\\nIsaias\\nAlberto\\nJamari\\nColten\\nDax\\nMarvin\\nCasey\\nMoshe\\nJohan\\nSam\\nMatthias\\nLarry\\nTrey\\nDevon\\nTrent\\nMauricio\\nMathias\\nIssac\\nDorian\\nGianni\\nAhmad\\nNikolas\\nOakley\\nUriel\\nLewis\\nRandy\\nCullen\\nBraydon\\nEzequiel\\nReece\\nJimmy\\nCrosby\\nSoren\\nUriah\\nRoger\\nNathanael\\nEmmitt\\nGary\\nRayan\\nRicky\\nMitchell\\nRoland\\nAlfredo\\nCannon\\nJalen\\nTatum\\nKobe\\nYusuf\\nQuinton\\nKorbin\\nBrayan\\nJoe\\nByron\\nAriel\\nQuincy\\nCarl\\nKristopher\\nAlvin\\nDuke\\nLance\\nLondon\\nJasiah\\nBoston\\nSantino\\nLennon\\nDeandre\\nMadden\\nTalon\\nSylas\\nOrlando\\nHamza\\nBo\\nAldo\\nDouglas\\nTristen\\nWilson\\nMaurice\\nSamson\\nCayson\\nBryant\\nConrad\\nDane\\nJulien\\nSincere\\nNoe\\nSalvador\\nNelson\\nEdison\\nRamon\\nLucian\\nMekhi\\nNiko\\nAyaan\\nVihaan\\nNeil\\nTitan\\nErnesto\\nBrentley\\nLionel\\nZayn\\nDominik\\nCassius\\nRowen\\nBlaine\\nSage\\nKelvin\\nJaxen\\nMemphis\\nLeonard\\nAbdullah\\nJacoby\\nAllan\\nJagger\\nYahir\\nForrest\\nGuillermo\\nMack\\nZechariah\\nHarley\\nTerry\\nKylan\\nFletcher\\nRohan\\nEddie\\nBronson\\nJefferson\\nRayden\\nTerrance\\nMarc\\nMorgan\\nValentino\\nDemetrius\\nKristian\\nHezekiah\\nLee\\nAlessandro\\nMakai\\nRex\\nCallum\\nKamari\\nCasen\\nTripp\\nCallan\\nStanley\\nToby\\nElian\\nLangston\\nMelvin\\nPayton\\nFlynn\\nJamir\\nKyree\\nAryan\\nAxton\\nAzariah\\nBranson\\nReese\\nAdonis\\nThaddeus\\nZeke\\nTommy\\nBlaze\\nCarmelo\\nSkylar\\nArian\\nBruno\\nKaysen\\nLayne\\nRay\\nZain\\nCrew\\nJedidiah\\nRodney\\nClay\\nTomas\\nAlden\\nJadiel\\nHarper\\nAres\\nCory\\nBrecken\\nChaim\\nNickolas\\nKareem\\nXzavier\\nKaison\\nAlonso\\nAmos\\nVicente\\nSamir\\nYosef\\nJamal\\nJon\\nBobby\\nAron\\nBen\\nFord\\nBrodie\\nCain\\nFinnley\\nBriggs\\nDavion\\nKingsley\\nBrett\\nWayne\\nZackary\\nApollo\\nEmery\\nJoziah\\nLucca\\nBentlee\\nHassan\\nWestin\\nJoey\\nVance\\nMarcelo\\nAxl\\nJermaine\\nChad\\nGerald\\nKole\\nDash\\nDayton\\nLachlan\\nShaun\\nKody\\nRonnie\\nKolten\\nMarcel\\nStetson\\nWillie\\nJeffery\\nBrantlee\\nElisha\\nMaxim\\nKendall\\nHarry\\nLeandro\\nAaden\\nChanning\\nKohen\\nYousef\\nDarian\\nEnoch\\nMayson\\nNeymar\\nGiovani\\nAlfonso\\nDuncan\\nAnders\\nBraeden\\nDwayne\\nKeagan\\nFelipe\\nFisher\\nStefan\\nTrace\\nAydin\\nAnson\\nClyde\\nBlaise\\nCanaan\\nMaxton\\nAlexzander\\nBilly\\nHarold\\nBaylor\\nGordon\\nRene\\nTerrence\\nVincenzo\\nKamdyn\\nMarlon\\nCastiel\\nLamar\\nAugustine\\nJamie\\nEugene\\nHarlan\\nKase\\nMiller\\nVan\\nKolby\\nSonny\\nEmory\\nJunior\\nGraysen\\nHeath\\nRogelio\\nWill\\nAmare\\nAmeer\\nCamdyn\\nJerome\\nMaison\\nMicheal\\nCristiano\\nGiancarlo\\nHenrik\\nLochlan\\nBode\\nCamron\\nHouston\\nOtis\\nHugh\\nKannon\\nKonnor\\nEmmet\\nKamryn\\nMaximo\\nAdrien\\nCedric\\nDariel\\nLandry\\nLeighton\\nMagnus\\nDraven\\nJavon\\nMarley\\nZavier\\nMarkus\\nJustus\\nReyansh\\nRudy\\nSantana\\nMisael\\nAbdiel\\nDavian\\nZaire\\nJordy\\nReginald\\nBenton\\nDarwin\\nFranco\\nJairo\\nJonathon\\nReuben\\nUrijah\\nVivaan\\nBrent\\nGauge\\nVaughn\\nColeman\\nZaid\\nTerrell\\nKenny\\nBrice\\nLyric\\nJudson\\nShiloh\\nDamari\\nKalel\\nBraiden\\nBrenden\\nCoen\\nDenver\\nJavion\\nThatcher\\nRey\\nDilan\\nDimitri\\nImmanuel\\nMustafa\\nUlises\\nAlvaro\\nDominique\\nEliseo\\nAnakin\\nCraig\\nDario\\nSantos\\nGrey\\nIshaan\\nJessie\\nJonael\\nAlfred\\nTyrone\\nValentin\\nJadon\\nTurner\\nIgnacio\\nRiaan\\nRocky\\nEphraim\\nMarquis\\nMusa\\nKeenan\\nRidge\\nChace\\nKymani\\nRodolfo\\nDarrell\\nSteve\\nAgustin\\nJaziel\\nBoone\\nCairo\\nKashton\\nRashad\\nGibson\\nJabari\\nAvi\\nQuintin\\nSeamus\\nRolando\\nSutton\\nCamilo\\nTriston\\nYehuda\\nCristopher\\nDavin\\nErnest\\nJamarion\\nKamren\\nSalvatore\\nAnton\\nAydan\\nHuxley\\nJovani\\nWilder\\nBodie\\nJordyn\\nLouie\\nAchilles\\nKaeden\\nKamron\\nAarush\\nDeangelo\\nRobin\\nYadiel\\nYahya\\nBoden\\nEan\\nKye\\nKylen\\nTodd\\nTruman\\nChevy\\nGilbert\\nHaiden\\nBrixton\\nDangelo\\nJuelz\\nOsvaldo\\nBishop\\nFreddy\\nReagan\\nFrankie\\nMalaki\\nCamren\\nDeshawn\\nJayvion\\nLeroy\\nBriar\\nJaydon\\nAntoine\\nEmma\\nOlivia\\nSophia\\nAva\\nIsabella\\nMia\\nAbigail\\nEmily\\nCharlotte\\nHarper\\nMadison\\nAmelia\\nElizabeth\\nSofia\\nEvelyn\\nAvery\\nChloe\\nElla\\nGrace\\nVictoria\\nAubrey\\nScarlett\\nZoey\\nAddison\\nLily\\nLillian\\nNatalie\\nHannah\\nAria\\nLayla\\nBrooklyn\\nAlexa\\nZoe\\nPenelope\\nRiley\\nLeah\\nAudrey\\nSavannah\\nAllison\\nSamantha\\nNora\\nSkylar\\nCamila\\nAnna\\nPaisley\\nAriana\\nEllie\\nAaliyah\\nClaire\\nViolet\\nStella\\nSadie\\nMila\\nGabriella\\nLucy\\nArianna\\nKennedy\\nSarah\\nMadelyn\\nEleanor\\nKaylee\\nCaroline\\nHazel\\nHailey\\nGenesis\\nKylie\\nAutumn\\nPiper\\nMaya\\nNevaeh\\nSerenity\\nPeyton\\nMackenzie\\nBella\\nEva\\nTaylor\\nNaomi\\nAubree\\nAurora\\nMelanie\\nLydia\\nBrianna\\nRuby\\nKatherine\\nAshley\\nAlexis\\nAlice\\nCora\\nJulia\\nMadeline\\nFaith\\nAnnabelle\\nAlyssa\\nIsabelle\\nVivian\\nGianna\\nQuinn\\nClara\\nReagan\\nKhloe\\nAlexandra\\nHadley\\nEliana\\nSophie\\nLondon\\nElena\\nKimberly\\nBailey\\nMaria\\nLuna\\nWillow\\nJasmine\\nKinsley\\nValentina\\nKayla\\nDelilah\\nAndrea\\nNatalia\\nLauren\\nMorgan\\nRylee\\nSydney\\nAdalynn\\nMary\\nXimena\\nJade\\nLiliana\\nBrielle\\nIvy\\nTrinity\\nJosephine\\nAdalyn\\nJocelyn\\nEmery\\nAdeline\\nJordyn\\nAriel\\nEverly\\nLilly\\nPaige\\nIsla\\nLyla\\nMakayla\\nMolly\\nEmilia\\nMya\\nKendall\\nMelody\\nIsabel\\nBrooke\\nMckenzie\\nNicole\\nPayton\\nMargaret\\nMariah\\nEden\\nAthena\\nAmy\\nNorah\\nLondyn\\nValeria\\nSara\\nAliyah\\nAngelina\\nGracie\\nRose\\nRachel\\nJuliana\\nLaila\\nBrooklynn\\nValerie\\nAlina\\nReese\\nElise\\nEliza\\nAlaina\\nRaelynn\\nLeilani\\nCatherine\\nEmerson\\nCecilia\\nGenevieve\\nDaisy\\nHarmony\\nVanessa\\nAdriana\\nPresley\\nRebecca\\nDestiny\\nHayden\\nJulianna\\nMichelle\\nAdelyn\\nArabella\\nSummer\\nCallie\\nKaitlyn\\nRyleigh\\nLila\\nDaniela\\nArya\\nAlana\\nEsther\\nFinley\\nGabrielle\\nJessica\\nCharlie\\nStephanie\\nTessa\\nMakenzie\\nAna\\nAmaya\\nAlexandria\\nAlivia\\nNova\\nAnastasia\\nIris\\nMarley\\nFiona\\nAngela\\nGiselle\\nKate\\nAlayna\\nLola\\nLucia\\nJuliette\\nParker\\nTeagan\\nSienna\\nGeorgia\\nHope\\nCali\\nVivienne\\nIzabella\\nKinley\\nDaleyza\\nKylee\\nJayla\\nKatelyn\\nJuliet\\nMaggie\\nDakota\\nDelaney\\nBrynlee\\nKeira\\nCamille\\nLeila\\nMckenna\\nAniyah\\nNoelle\\nJosie\\nJennifer\\nMelissa\\nGabriela\\nAllie\\nEloise\\nCassidy\\nJacqueline\\nBrynn\\nSawyer\\nEvangeline\\nJordan\\nParis\\nOlive\\nAyla\\nRosalie\\nKali\\nMaci\\nGemma\\nLilliana\\nRaegan\\nLena\\nAdelaide\\nJourney\\nAdelynn\\nAlessandra\\nKenzie\\nMiranda\\nHaley\\nJune\\nHarley\\nCharlee\\nLucille\\nTalia\\nSkyler\\nMakenna\\nPhoebe\\nJane\\nLyric\\nAngel\\nElaina\\nAdrianna\\nRuth\\nMiriam\\nDiana\\nMariana\\nDanielle\\nJenna\\nShelby\\nNina\\nMadeleine\\nElliana\\nAmina\\nAmiyah\\nChelsea\\nJoanna\\nJada\\nLexi\\nKatie\\nMaddison\\nFatima\\nVera\\nMalia\\nLilah\\nMadilyn\\nAmanda\\nDaniella\\nAlexia\\nKathryn\\nPaislee\\nSelena\\nLaura\\nAnnie\\nNyla\\nCatalina\\nKayleigh\\nSloane\\nKamila\\nLia\\nHaven\\nRowan\\nAshlyn\\nChristina\\nAmber\\nMyla\\nAddilyn\\nErin\\nAlison\\nAinsley\\nRaelyn\\nCadence\\nKendra\\nHeidi\\nKelsey\\nNadia\\nAlondra\\nCheyenne\\nKaydence\\nMikayla\\nRiver\\nHeaven\\nArielle\\nLana\\nBlakely\\nSabrina\\nKyla\\nAda\\nGracelyn\\nAllyson\\nFelicity\\nKira\\nBriella\\nKamryn\\nAdaline\\nAlicia\\nEmber\\nAylin\\nVeronica\\nEsmeralda\\nSage\\nLeslie\\nAspen\\nGia\\nCamilla\\nAshlynn\\nScarlet\\nJournee\\nDaphne\\nBianca\\nMckinley\\nAmira\\nCarmen\\nKyleigh\\nMegan\\nSkye\\nElsie\\nKennedi\\nAverie\\nCarly\\nRylie\\nGracelynn\\nMallory\\nEmersyn\\nLogan\\nCamryn\\nAnnabella\\nDylan\\nElle\\nKiara\\nYaretzi\\nAriella\\nZara\\nApril\\nGwendolyn\\nAnaya\\nBaylee\\nBrinley\\nSierra\\nAnnalise\\nTatum\\nSerena\\nDahlia\\nMacy\\nMiracle\\nMadelynn\\nBriana\\nFreya\\nMacie\\nHelen\\nBethany\\nLeia\\nHarlow\\nBlake\\nJayleen\\nAngelica\\nMarilyn\\nViviana\\nFrancesca\\nJuniper\\nCarolina\\nJazmin\\nEmely\\nMaliyah\\nCataleya\\nJillian\\nJoy\\nAbby\\nMalaysia\\nNylah\\nSarai\\nEvelynn\\nNia\\nZuri\\nAddyson\\nAleah\\nKaia\\nBristol\\nLorelei\\nJazmine\\nMaeve\\nAlejandra\\nJustice\\nJulie\\nMarlee\\nPhoenix\\nJimena\\nEmmalyn\\nNayeli\\nAleena\\nBrittany\\nAmara\\nKarina\\nGiuliana\\nThea\\nBraelynn\\nKassidy\\nBraelyn\\nLuciana\\nAubrie\\nJanelle\\nMadisyn\\nBrylee\\nLeighton\\nRyan\\nAmari\\nEve\\nMillie\\nKelly\\nSelah\\nLacey\\nWilla\\nHaylee\\nJaylah\\nSylvia\\nMelany\\nElisa\\nElsa\\nHattie\\nRaven\\nHolly\\nAisha\\nItzel\\nKyra\\nTiffany\\nJayda\\nMichaela\\nMadilynn\\nJamie\\nCeleste\\nLilian\\nRemi\\nPriscilla\\nJazlyn\\nKaren\\nSavanna\\nZariah\\nLauryn\\nAlanna\\nKara\\nKarla\\nCassandra\\nAriah\\nEvie\\nFrances\\nAileen\\nLennon\\nCharley\\nRosemary\\nDanna\\nRegina\\nKaelyn\\nVirginia\\nHanna\\nRebekah\\nAlani\\nEdith\\nLiana\\nCharleigh\\nGloria\\nCameron\\nColette\\nKailey\\nCarter\\nHelena\\nMatilda\\nImani\\nBridget\\nCynthia\\nJaniyah\\nMarissa\\nJohanna\\nSasha\\nKaliyah\\nCecelia\\nAdelina\\nJessa\\nHayley\\nJulissa\\nWinter\\nCrystal\\nKaylie\\nBailee\\nCharli\\nHenley\\nAnya\\nMaia\\nSkyla\\nLiberty\\nFernanda\\nMonica\\nBraylee\\nDallas\\nMariam\\nMarie\\nBeatrice\\nHallie\\nMaryam\\nAngelique\\nAnne\\nMadalyn\\nAlayah\\nAnnika\\nGreta\\nLilyana\\nKadence\\nCoraline\\nLainey\\nMabel\\nLillie\\nAnika\\nAzalea\\nDayana\\nJaliyah\\nAddisyn\\nEmilee\\nMira\\nAngie\\nLilith\\nMae\\nMeredith\\nGuadalupe\\nEmelia\\nMargot\\nMelina\\nAniya\\nAlena\\nMyra\\nElianna\\nCaitlyn\\nJaelynn\\nJaelyn\\nDemi\\nMikaela\\nTiana\\nBlair\\nShiloh\\nAriyah\\nSaylor\\nCaitlin\\nLindsey\\nOakley\\nAlia\\nEverleigh\\nIvanna\\nMiah\\nEmmy\\nJessie\\nAnahi\\nKaylin\\nAnsley\\nAnnabel\\nRemington\\nKora\\nMaisie\\nNathalie\\nEmory\\nKarsyn\\nPearl\\nIrene\\nKimber\\nRosa\\nLylah\\nMagnolia\\nSamara\\nElliot\\nRenata\\nGalilea\\nKensley\\nKiera\\nWhitney\\nAmelie\\nSiena\\nBria\\nLaney\\nPerla\\nTatiana\\nZelda\\nJaycee\\nKori\\nMontserrat\\nLorelai\\nAdele\\nElyse\\nKatelynn\\nKynlee\\nMarina\\nJayden\\nKailyn\\nAvah\\nKenley\\nAviana\\nArmani\\nDulce\\nAlaia\\nTeresa\\nNatasha\\nMilani\\nAmirah\\nBreanna\\nLinda\\nTenley\\nSutton\\nElaine\\nElliott\\nAliza\\nKenna\\nMeadow\\nAlyson\\nRory\\nMilana\\nErica\\nEsme\\nLeona\\nJoselyn\\nMadalynn\\nAlma\\nChanel\\nMyah\\nKarter\\nZahra\\nAudrina\\nAriya\\nJemma\\nEileen\\nKallie\\nMilan\\nEmmalynn\\nLailah\\nSloan\\nClarissa\\nKarlee\\nLaylah\\nAmiya\\nCollins\\nEllen\\nHadassah\\nDanica\\nJaylene\\nAveri\\nReyna\\nSaige\\nWren\\nLexie\\nDorothy\\nLilianna\\nMonroe\\nAryanna\\nElisabeth\\nIvory\\nLiv\\nJanessa\\nJaylynn\\nLivia\\nRayna\\nAlaya\\nMalaya\\nCara\\nErika\\nAmani\\nClare\\nAddilynn\\nRoselyn\\nCorinne\\nPaola\\nJolene\\nAnabelle\\nAliana\\nLea\\nMara\\nLennox\\nClaudia\\nKristina\\nJaylee\\nKaylynn\\nZariyah\\nGwen\\nKinslee\\nAvianna\\nLisa\\nRaquel\\nJolie\\nCarolyn\\nCourtney\\nPenny\\nRoyal\\nAlannah\\nCiara\\nChaya\\nKassandra\\nMilena\\nMina\\nNoa\\nLeanna\\nZoie\\nAriadne\\nMonserrat\\nNola\\nCarlee\\nIsabela\\nJazlynn\\nKairi\\nLaurel\\nSky\\nRosie\\nArely\\nAubrielle\\nKenia\\nNoemi\\nScarlette\\nFarrah\\nLeyla\\nAmia\\nBryanna\\nNaya\\nWynter\\nHunter\\nKatalina\\nTaliyah\\nAmaris\\nEmerie\\nMartha\\nThalia\\nChristine\\nEstrella\\nBrenna\\nMilania\\nSalma\\nLillianna\\nMarjorie\\nShayla\\nZendaya\\nAurelia\\nBrenda\\nJulieta\\nAdilynn\\nDeborah\\nKeyla\\nPatricia\\nEmmeline\\nHadlee\\nGiovanna\\nKailee\\nDesiree\\nCasey\\nKarlie\\nKhaleesi\\nLara\\nTori\\nClementine\\nNancy\\nSimone\\nAyleen\\nEstelle\\nCeline\\nMadyson\\nZaniyah\\nAdley\\nAmalia\\nPaityn\\nKathleen\\nSandra\\nLizbeth\\nMaleah\\nMicah\\nAryana\\nHailee\\nAiyana\\nJoyce\\nRyann\\nCaylee\\nKalani\\nMarisol\\nNathaly\\nBriar\\nHolland\\nLindsay\\nRemy\\nAdrienne\\nAzariah\\nHarlee\\nDana\\nFrida\\nMarianna\\nYamileth\\nChana\\nKaya\\nLina\\nCelia\\nAnalia\\nHana\\nJayde\\nJoslyn\\nRomina\\nAnabella\\nBarbara\\nBryleigh\\nEmilie\\nNathalia\\nAlly\\nEvalyn\\nBonnie\\nZaria\\nCarla\\nEstella\\nKailani\\nRivka\\nRylan\\nPaulina\\nKayden\\nGiana\\nYareli\\nKaiya\\nSariah\\nAvalynn\\nJasmin\\nAya\\nJewel\\nKristen\\nPaula\\nAstrid\\nJordynn\\nKenya\\nAnn\\nAnnalee\\nKai\\nKiley\\nMarleigh\\nJulianne\\nZion\\nEmmaline\\nNataly\\nAminah\\nAmya\\nIliana\\nJaida\\nPaloma\\nAsia\\nLouisa\\nSarahi\\nTara\\nAndi\\nArden\\nDalary\\nAimee\\nAlisson\\nHalle\\nAitana\\nLandry\\nAlisha\\nElin\\nMaliah\\nBelen\\nBriley\\nRaina\\nVienna\\nEsperanza\\nJudith\\nFaye\\nSusan\\nAliya\\nAranza\\nYasmin\\nJaylin\\nKyndall\\nSaniyah\\nWendy\\nYaritza\\nAzaria\\nKaelynn\\nNeriah\\nZainab\\nAlissa\\nCherish\\nDixie\\nVeda\\nNala\\nTabitha\\nCordelia\\nEllison\\nMeilani\\nAngeline\\nReina\\nTegan\\nHadleigh\\nHarmoni\\nKimora\\nIngrid\\nLilia\\nLuz\\nAislinn\\nAmerica\\nEllis\\nElora\\nHeather\\nNatalee\\nMiya\\nHeavenly\\nJenny\\nAubriella\\nEmmalee\\nKensington\\nKiana\\nLilyanna\\nTinley\\nOphelia\\nMoriah\\nSharon\\nCharlize\\nAbril\\nAvalyn\\nMariyah\\nTaya\\nIreland\\nLyra\\nNoor\\nSariyah\\nGiavanna\\nStevie\\nRhea\\nZaylee\\nDenise\\nFrankie\\nJaniya\\nJocelynn\\nLibby\\nAubrianna\\nKaitlynn\\nPrincess\\nSidney\\nAlianna'}"
            ]
          },
          "execution_count": 18,
          "metadata": {
            "tags": []
          },
          "output_type": "execute_result"
        }
      ],
      "source": [
        "from google.colab import files\n",
        "files.upload()"
      ]
    },
    {
      "cell_type": "code",
      "execution_count": 19,
      "metadata": {
        "colab": {
          "base_uri": "https://localhost:8080/",
          "height": 0
        },
        "id": "2yU5l_b6Pu_9",
        "outputId": "a198ca89-88fd-43f7-d876-793535b713de"
      },
      "outputs": [
        {
          "name": "stdout",
          "output_type": "stream",
          "text": [
            "[nltk_data] Downloading package gutenberg to /root/nltk_data...\n",
            "[nltk_data]   Unzipping corpora/gutenberg.zip.\n",
            "Czas wyszukiwania naiwnego: 6.6126691819999905.\n",
            "Czas kompilacji wyrażenia 0.10942736800006969. Czas wyszukiwania z wyrażeniem 0.7591569599999275\n",
            "Z regexami 8.710542786831095 razy szybciej!\n"
          ]
        }
      ],
      "source": [
        "import nltk                                            # stąd pobierzemy zbiór tekstowy (korpus)\n",
        "nltk.download('gutenberg')\n",
        "from timeit import default_timer as timer              # funkcja potrzebna do mierzenia czasu\n",
        "\n",
        "raw_bible = nltk.corpus.gutenberg.raw('bible-kjv.txt') # wczytaj tekst biblii\n",
        "\n",
        "try:\n",
        "    names = open('names.txt', 'r').read().split(\"\\n\")      # wczytaj listę imion w formie listy pythonowej ['adam', 'ania', ...]\n",
        "except:\n",
        "    # jesli nie ma pliku lokalnie, sprobuj wczytac z Amazon S3 (potrzebne jesli korzystasz z GoogleColab)\n",
        "    import pandas\n",
        "    import s3fs\n",
        "    df = pandas.read_csv(\"https://dwisniewski-put-pjn.s3.eu-north-1.amazonaws.com/names.txt\", header=None)\n",
        "    names = [name[0] for name in df.values.tolist()]\n",
        "\n",
        "names_found_naive = []\n",
        "names_found_regex = []\n",
        "\n",
        "# METODA NAIWNA\n",
        "start_naive = timer()\n",
        "for name in names:                       # dla każdego wcztanego imienia (z 1000 imion)\n",
        "    if name in raw_bible:                # sprawdz czy tekst imienia występuje w biblii (ciągu znaków)\n",
        "        names_found_naive.append(name)   # jeśli tak to dopisz do listy\n",
        "end_naive = timer()\n",
        "\n",
        "print(\"Czas wyszukiwania naiwnego: {diff}.\".format(diff=end_naive-start_naive))\n",
        "\n",
        "####################################################################################\n",
        "\n",
        "# METODA OPARTA O REGEX\n",
        "start_regex = timer()\n",
        "REGEX = '(' + '|'.join(names) + ')'      # tworzy wielką alternatywę imion: (adam|ania|...) - która reprezentowana jest jako drzewo prefiksowe\n",
        "compiled = re.compile(REGEX)\n",
        "start_compiled = timer()\n",
        "for match in compiled.finditer(raw_bible):\n",
        "    names_found_regex.append(match.groups(0))\n",
        "end_regex = timer()\n",
        "\n",
        "print(\"Czas kompilacji wyrażenia {comp}. Czas wyszukiwania z wyrażeniem {search}\".format(comp=start_compiled-start_regex, search=end_regex-start_compiled))\n",
        "print(\"Z regexami {n} razy szybciej!\".format(n=(1.*end_naive-start_naive)/(end_regex-start_compiled)))"
      ]
    },
    {
      "cell_type": "markdown",
      "metadata": {
        "id": "yjuanIPxPu_9"
      },
      "source": [
        "\n",
        "\n",
        "---\n",
        "\n",
        "# Ciekawe materiały:\n",
        "Jeśli zainteresowały was wyrażenia regularne i chcielibyście je bardziej zgłębić, oto garść ciekawych linków:\n",
        "<ol>\n",
        "<li>https://regexone.com - Przystępny kurs wyrażeń regularnych z zadaniami</li>\n",
        "<li>https://regexcrossword.com - Ciekawy zbiór zadań w formie krzyżówek, zdarzają się trudne :)</li>\n",
        "    <li>https://www.rexegg.com/regex-explosive-quantifiers.html - wyrażenia regularne mogą działać NAPRAWDĘ długo</li>\n",
        "</ol>"
      ]
    },
    {
      "cell_type": "code",
      "execution_count": null,
      "metadata": {
        "id": "tuomAsWoPu_-"
      },
      "outputs": [],
      "source": []
    }
  ],
  "metadata": {
    "colab": {
      "collapsed_sections": [],
      "name": "zadania1_deadline11_03_2021_godz20_00.ipynb",
      "provenance": []
    },
    "kernelspec": {
      "display_name": "Python 3",
      "language": "python",
      "name": "python3"
    },
    "language_info": {
      "codemirror_mode": {
        "name": "ipython",
        "version": 3
      },
      "file_extension": ".py",
      "mimetype": "text/x-python",
      "name": "python",
      "nbconvert_exporter": "python",
      "pygments_lexer": "ipython3",
      "version": "3.8.5"
    }
  },
  "nbformat": 4,
  "nbformat_minor": 0
}
