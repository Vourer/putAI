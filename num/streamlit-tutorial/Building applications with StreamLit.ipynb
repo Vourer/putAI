{
 "cells": [
  {
   "cell_type": "markdown",
   "id": "8e647385",
   "metadata": {},
   "source": [
    "# Streamlit\n",
    "\n",
    "Streamlit to biblioteka która zamienia skrypty w Pythonie w bogate aplikacje webowe z zaawansowanymi kontrolkami. Biblioteka jest elastyczna i umożliwia tworzenie własnych komponentów rozszerzających bogaty zestaw wbudowanych kontrolek. Najlepszym zastosowaniem dla biblioteki Streamlit jest szybkie prototypowanie  aplikacji wykorzystujących modele statystyczne.\n",
    "\n",
    "W celu zainstalowania biblioteki wystarczy wydać polecenie\n",
    "\n",
    "```bash\n",
    "bash$ pip install streamlit\n",
    "```"
   ]
  },
  {
   "cell_type": "markdown",
   "id": "f9054115",
   "metadata": {},
   "source": [
    "# Podstawowe komponenty\n",
    "\n",
    "Utwórz osobny katalog i umieść w nim plik `helloworld.py`. W pliku umieść następujący kod:"
   ]
  },
  {
   "cell_type": "code",
   "execution_count": null,
   "id": "2d901af1",
   "metadata": {
    "ExecuteTime": {
     "end_time": "2021-05-04T14:59:29.646382Z",
     "start_time": "2021-05-04T14:59:28.984486Z"
    }
   },
   "outputs": [],
   "source": [
    "import streamlit as st\n",
    "\n",
    "st.title('Hello world app')\n",
    "st.header('This is my first Streamlit app')\n",
    "\n",
    "st.write('Hello, world!')"
   ]
  },
  {
   "cell_type": "markdown",
   "id": "a4ab6fc7",
   "metadata": {},
   "source": [
    "W linii poleceń przejdź do katalogu z plikiem i uruchom serwer przy pomocy polecenia\n",
    "\n",
    "```bash\n",
    "bash$ streamlit run helloword.py\n",
    "```\n",
    "\n",
    "Otwórz wskazany adres w przeglądarce."
   ]
  },
  {
   "cell_type": "markdown",
   "id": "d01d11d7",
   "metadata": {},
   "source": [
    "Wywołanie funkcji `st.write()` jest nadmiarowe, Streamlit domyślnie wysyła do tej funkcji każdą zmienną którą napotka w skrypcie. Zobacz, co się stanie, gdy do pliku dodasz poniższą linię:"
   ]
  },
  {
   "cell_type": "code",
   "execution_count": null,
   "id": "cfe32ad8",
   "metadata": {
    "ExecuteTime": {
     "end_time": "2021-05-04T15:04:10.692229Z",
     "start_time": "2021-05-04T15:04:10.682817Z"
    }
   },
   "outputs": [],
   "source": [
    "_str = 'Hello, universe!'\n",
    "_str"
   ]
  },
  {
   "cell_type": "markdown",
   "id": "cd981e6d",
   "metadata": {},
   "source": [
    "Jeżeli chcesz w prosty i szybki sposób dodać formatowaną zawartość, najłatwiej jest posłużyć się kodem markdown. Dodaj do dokumentu poniższą linię."
   ]
  },
  {
   "cell_type": "code",
   "execution_count": null,
   "id": "3961e3d9",
   "metadata": {},
   "outputs": [],
   "source": [
    "st.markdown('> Streamlit is awsome!')\n",
    "st.markdown('*Mikołaj Morzy*')"
   ]
  },
  {
   "cell_type": "markdown",
   "id": "e9ed0d8e",
   "metadata": {},
   "source": [
    "Analogicznie można dołączyć do dokumentu fragment w Latexu"
   ]
  },
  {
   "cell_type": "code",
   "execution_count": null,
   "id": "07f4993c",
   "metadata": {},
   "outputs": [],
   "source": [
    "st.latex('\\LaTeX: $e^{i\\pi}+1=0$')"
   ]
  },
  {
   "cell_type": "markdown",
   "id": "2e51b96f",
   "metadata": {},
   "source": [
    "Biblioteka Streamlit jest w sposób szczególny przystosowana do pracy z danymi przechowywanymi w obiektach biblioteki `pandas`. Zaimportuj tę bibliotekę, wczytaj plik danych i wyświetl jego zawartość w aplikacji."
   ]
  },
  {
   "cell_type": "code",
   "execution_count": 3,
   "id": "64a91a50",
   "metadata": {
    "ExecuteTime": {
     "end_time": "2021-05-04T15:22:12.691458Z",
     "start_time": "2021-05-04T15:22:06.250766Z"
    }
   },
   "outputs": [
    {
     "data": {
      "text/html": [
       "<div>\n",
       "<style scoped>\n",
       "    .dataframe tbody tr th:only-of-type {\n",
       "        vertical-align: middle;\n",
       "    }\n",
       "\n",
       "    .dataframe tbody tr th {\n",
       "        vertical-align: top;\n",
       "    }\n",
       "\n",
       "    .dataframe thead th {\n",
       "        text-align: right;\n",
       "    }\n",
       "</style>\n",
       "<table border=\"1\" class=\"dataframe\">\n",
       "  <thead>\n",
       "    <tr style=\"text-align: right;\">\n",
       "      <th></th>\n",
       "      <th>PassengerId</th>\n",
       "      <th>Survived</th>\n",
       "      <th>Pclass</th>\n",
       "      <th>Name</th>\n",
       "      <th>Sex</th>\n",
       "      <th>Age</th>\n",
       "      <th>SibSp</th>\n",
       "      <th>Parch</th>\n",
       "      <th>Ticket</th>\n",
       "      <th>Fare</th>\n",
       "      <th>Cabin</th>\n",
       "      <th>Embarked</th>\n",
       "    </tr>\n",
       "  </thead>\n",
       "  <tbody>\n",
       "    <tr>\n",
       "      <th>0</th>\n",
       "      <td>1</td>\n",
       "      <td>0</td>\n",
       "      <td>3</td>\n",
       "      <td>Braund, Mr. Owen Harris</td>\n",
       "      <td>male</td>\n",
       "      <td>22.0</td>\n",
       "      <td>1</td>\n",
       "      <td>0</td>\n",
       "      <td>A/5 21171</td>\n",
       "      <td>7.2500</td>\n",
       "      <td>NaN</td>\n",
       "      <td>S</td>\n",
       "    </tr>\n",
       "    <tr>\n",
       "      <th>1</th>\n",
       "      <td>2</td>\n",
       "      <td>1</td>\n",
       "      <td>1</td>\n",
       "      <td>Cumings, Mrs. John Bradley (Florence Briggs Th...</td>\n",
       "      <td>female</td>\n",
       "      <td>38.0</td>\n",
       "      <td>1</td>\n",
       "      <td>0</td>\n",
       "      <td>PC 17599</td>\n",
       "      <td>71.2833</td>\n",
       "      <td>C85</td>\n",
       "      <td>C</td>\n",
       "    </tr>\n",
       "    <tr>\n",
       "      <th>2</th>\n",
       "      <td>3</td>\n",
       "      <td>1</td>\n",
       "      <td>3</td>\n",
       "      <td>Heikkinen, Miss. Laina</td>\n",
       "      <td>female</td>\n",
       "      <td>26.0</td>\n",
       "      <td>0</td>\n",
       "      <td>0</td>\n",
       "      <td>STON/O2. 3101282</td>\n",
       "      <td>7.9250</td>\n",
       "      <td>NaN</td>\n",
       "      <td>S</td>\n",
       "    </tr>\n",
       "    <tr>\n",
       "      <th>3</th>\n",
       "      <td>4</td>\n",
       "      <td>1</td>\n",
       "      <td>1</td>\n",
       "      <td>Futrelle, Mrs. Jacques Heath (Lily May Peel)</td>\n",
       "      <td>female</td>\n",
       "      <td>35.0</td>\n",
       "      <td>1</td>\n",
       "      <td>0</td>\n",
       "      <td>113803</td>\n",
       "      <td>53.1000</td>\n",
       "      <td>C123</td>\n",
       "      <td>S</td>\n",
       "    </tr>\n",
       "    <tr>\n",
       "      <th>4</th>\n",
       "      <td>5</td>\n",
       "      <td>0</td>\n",
       "      <td>3</td>\n",
       "      <td>Allen, Mr. William Henry</td>\n",
       "      <td>male</td>\n",
       "      <td>35.0</td>\n",
       "      <td>0</td>\n",
       "      <td>0</td>\n",
       "      <td>373450</td>\n",
       "      <td>8.0500</td>\n",
       "      <td>NaN</td>\n",
       "      <td>S</td>\n",
       "    </tr>\n",
       "    <tr>\n",
       "      <th>...</th>\n",
       "      <td>...</td>\n",
       "      <td>...</td>\n",
       "      <td>...</td>\n",
       "      <td>...</td>\n",
       "      <td>...</td>\n",
       "      <td>...</td>\n",
       "      <td>...</td>\n",
       "      <td>...</td>\n",
       "      <td>...</td>\n",
       "      <td>...</td>\n",
       "      <td>...</td>\n",
       "      <td>...</td>\n",
       "    </tr>\n",
       "    <tr>\n",
       "      <th>886</th>\n",
       "      <td>887</td>\n",
       "      <td>0</td>\n",
       "      <td>2</td>\n",
       "      <td>Montvila, Rev. Juozas</td>\n",
       "      <td>male</td>\n",
       "      <td>27.0</td>\n",
       "      <td>0</td>\n",
       "      <td>0</td>\n",
       "      <td>211536</td>\n",
       "      <td>13.0000</td>\n",
       "      <td>NaN</td>\n",
       "      <td>S</td>\n",
       "    </tr>\n",
       "    <tr>\n",
       "      <th>887</th>\n",
       "      <td>888</td>\n",
       "      <td>1</td>\n",
       "      <td>1</td>\n",
       "      <td>Graham, Miss. Margaret Edith</td>\n",
       "      <td>female</td>\n",
       "      <td>19.0</td>\n",
       "      <td>0</td>\n",
       "      <td>0</td>\n",
       "      <td>112053</td>\n",
       "      <td>30.0000</td>\n",
       "      <td>B42</td>\n",
       "      <td>S</td>\n",
       "    </tr>\n",
       "    <tr>\n",
       "      <th>888</th>\n",
       "      <td>889</td>\n",
       "      <td>0</td>\n",
       "      <td>3</td>\n",
       "      <td>Johnston, Miss. Catherine Helen \"Carrie\"</td>\n",
       "      <td>female</td>\n",
       "      <td>NaN</td>\n",
       "      <td>1</td>\n",
       "      <td>2</td>\n",
       "      <td>W./C. 6607</td>\n",
       "      <td>23.4500</td>\n",
       "      <td>NaN</td>\n",
       "      <td>S</td>\n",
       "    </tr>\n",
       "    <tr>\n",
       "      <th>889</th>\n",
       "      <td>890</td>\n",
       "      <td>1</td>\n",
       "      <td>1</td>\n",
       "      <td>Behr, Mr. Karl Howell</td>\n",
       "      <td>male</td>\n",
       "      <td>26.0</td>\n",
       "      <td>0</td>\n",
       "      <td>0</td>\n",
       "      <td>111369</td>\n",
       "      <td>30.0000</td>\n",
       "      <td>C148</td>\n",
       "      <td>C</td>\n",
       "    </tr>\n",
       "    <tr>\n",
       "      <th>890</th>\n",
       "      <td>891</td>\n",
       "      <td>0</td>\n",
       "      <td>3</td>\n",
       "      <td>Dooley, Mr. Patrick</td>\n",
       "      <td>male</td>\n",
       "      <td>32.0</td>\n",
       "      <td>0</td>\n",
       "      <td>0</td>\n",
       "      <td>370376</td>\n",
       "      <td>7.7500</td>\n",
       "      <td>NaN</td>\n",
       "      <td>Q</td>\n",
       "    </tr>\n",
       "  </tbody>\n",
       "</table>\n",
       "<p>891 rows × 12 columns</p>\n",
       "</div>"
      ],
      "text/plain": [
       "     PassengerId  Survived  Pclass  \\\n",
       "0              1         0       3   \n",
       "1              2         1       1   \n",
       "2              3         1       3   \n",
       "3              4         1       1   \n",
       "4              5         0       3   \n",
       "..           ...       ...     ...   \n",
       "886          887         0       2   \n",
       "887          888         1       1   \n",
       "888          889         0       3   \n",
       "889          890         1       1   \n",
       "890          891         0       3   \n",
       "\n",
       "                                                  Name     Sex   Age  SibSp  \\\n",
       "0                              Braund, Mr. Owen Harris    male  22.0      1   \n",
       "1    Cumings, Mrs. John Bradley (Florence Briggs Th...  female  38.0      1   \n",
       "2                               Heikkinen, Miss. Laina  female  26.0      0   \n",
       "3         Futrelle, Mrs. Jacques Heath (Lily May Peel)  female  35.0      1   \n",
       "4                             Allen, Mr. William Henry    male  35.0      0   \n",
       "..                                                 ...     ...   ...    ...   \n",
       "886                              Montvila, Rev. Juozas    male  27.0      0   \n",
       "887                       Graham, Miss. Margaret Edith  female  19.0      0   \n",
       "888           Johnston, Miss. Catherine Helen \"Carrie\"  female   NaN      1   \n",
       "889                              Behr, Mr. Karl Howell    male  26.0      0   \n",
       "890                                Dooley, Mr. Patrick    male  32.0      0   \n",
       "\n",
       "     Parch            Ticket     Fare Cabin Embarked  \n",
       "0        0         A/5 21171   7.2500   NaN        S  \n",
       "1        0          PC 17599  71.2833   C85        C  \n",
       "2        0  STON/O2. 3101282   7.9250   NaN        S  \n",
       "3        0            113803  53.1000  C123        S  \n",
       "4        0            373450   8.0500   NaN        S  \n",
       "..     ...               ...      ...   ...      ...  \n",
       "886      0            211536  13.0000   NaN        S  \n",
       "887      0            112053  30.0000   B42        S  \n",
       "888      2        W./C. 6607  23.4500   NaN        S  \n",
       "889      0            111369  30.0000  C148        C  \n",
       "890      0            370376   7.7500   NaN        Q  \n",
       "\n",
       "[891 rows x 12 columns]"
      ]
     },
     "execution_count": 3,
     "metadata": {},
     "output_type": "execute_result"
    }
   ],
   "source": [
    "import pandas as pd\n",
    "\n",
    "url = 'https://gist.githubusercontent.com/balmasi/0e65f72c48f2a3498ceb36ffc216f5eb/raw/fa71405126017e6a37bea592440b4bee94bf7b9e/titanic.csv'\n",
    "\n",
    "df = pd.read_csv(url)\n",
    "\n",
    "df"
   ]
  },
  {
   "cell_type": "markdown",
   "id": "090df507",
   "metadata": {},
   "source": [
    "Zamiast korzystać z dynamiczego wyświetlania obiektu `DataFrame` można go też wyświetlić w sposób statyczny."
   ]
  },
  {
   "cell_type": "code",
   "execution_count": null,
   "id": "10180f9b",
   "metadata": {},
   "outputs": [],
   "source": [
    "st.table(df.head())"
   ]
  },
  {
   "cell_type": "markdown",
   "id": "1c2a9a45",
   "metadata": {},
   "source": [
    "Streamlit posiada dedykowany komponent do wyświetlania danych tabelarycznych z możliwością dynamicznego dostosowania listy kolumn. Zamień powyższą linię na:"
   ]
  },
  {
   "cell_type": "code",
   "execution_count": null,
   "id": "555581cb",
   "metadata": {},
   "outputs": [],
   "source": [
    "cols = [\"Name\", \"Sex\", \"Age\"]\n",
    "\n",
    "df_multi = st.multiselect(\"Columns\", df.columns.tolist(), default=cols)\n",
    "st.dataframe(df[df_multi])"
   ]
  },
  {
   "cell_type": "markdown",
   "id": "6245658c",
   "metadata": {},
   "source": [
    "Dane, które już są umieszczone w obiekcie `DataFrame` mogą posłużyć do wizualizacji. Przygotujmy dane w taki sposób, aby móc wyświetlić rozkład wieku pasażerek/ów Titanica."
   ]
  },
  {
   "cell_type": "code",
   "execution_count": null,
   "id": "e09c2fb1",
   "metadata": {
    "ExecuteTime": {
     "end_time": "2021-05-04T15:26:06.624915Z",
     "start_time": "2021-05-04T15:26:06.618151Z"
    }
   },
   "outputs": [],
   "source": [
    "age_distribution = df.Age.dropna().value_counts()\n",
    "\n",
    "st.chart(age_distribution)"
   ]
  },
  {
   "cell_type": "markdown",
   "id": "d69329a8",
   "metadata": {},
   "source": [
    "Jeśli chcesz włączyć wyświetlanie fragmentu aplikacji warunkowo, możesz to łatwo zrobić dzięki komponentowi `st.checkbox`. Zamień ostatnie dwie linie na poniższy kod:"
   ]
  },
  {
   "cell_type": "code",
   "execution_count": null,
   "id": "a6e9fc28",
   "metadata": {},
   "outputs": [],
   "source": [
    "if st.checkbox('Show age distribution?'):\n",
    "    age_distribution = df.Age.dropna().value_counts()\n",
    "\n",
    "    st.chart(age_distribution)"
   ]
  },
  {
   "cell_type": "markdown",
   "id": "beb29c91",
   "metadata": {},
   "source": [
    "Inną możliwością modyfikowania sposobu wyświetlania danych jest posłużenie się komponentem `st.selectbox` w celu wybrania jednej z przedstawionych opcji. Dodaj do pliku poniższy kod:"
   ]
  },
  {
   "cell_type": "code",
   "execution_count": null,
   "id": "21a57a85",
   "metadata": {},
   "outputs": [],
   "source": [
    "display_sex = st.selectbox('Select sex to display', df.Sex)\n",
    "\n",
    "st.dataframe(df[df.Sex == display_sex])"
   ]
  },
  {
   "cell_type": "markdown",
   "id": "18ac47f2",
   "metadata": {},
   "source": [
    "Duża liczba kontrolek w głównym panelu wyświetlania danych może źle wpłynąć na czytelność aplikacji. Dowolny komponent może być automatycznie przeniesiony do paska bocznego poprzez zamianę wywołania `st.komponent` na `st.sidebar.komponent`. Spróbuj przenieść listę wyboru płci do wyświetlenia do paska bocznego. "
   ]
  },
  {
   "cell_type": "markdown",
   "id": "23fa5dbb",
   "metadata": {},
   "source": [
    "Kod wyświetlany w głównym panelu nie musi zajmować całej szerokości panelu. Panel może być podzielony na dowolną liczbę kolumn przy użyciu komponentu `st.beta_columns`. \n",
    "\n",
    "Umieść w pliku poniższy kod i zaobserwuj jego działanie."
   ]
  },
  {
   "cell_type": "code",
   "execution_count": null,
   "id": "849f0efd",
   "metadata": {},
   "outputs": [],
   "source": [
    "left_column, right_column = st.beta_columns(2)\n",
    "\n",
    "button_clicked = left_column.button('Click me!')\n",
    "\n",
    "if button_clicked:\n",
    "    right_column.write(\"Thank you!\")"
   ]
  },
  {
   "cell_type": "markdown",
   "id": "e99ff86f",
   "metadata": {},
   "source": [
    "Szczególnie długie opisy mogą być umieszczone w komponencie `st.beta_expander`:"
   ]
  },
  {
   "cell_type": "code",
   "execution_count": null,
   "id": "fcffc59d",
   "metadata": {},
   "outputs": [],
   "source": [
    "import lorem\n",
    "\n",
    "expander = st.beta_expander(\"Lorem ipsum\")\n",
    "expander.write(lorem.paragraph())"
   ]
  },
  {
   "cell_type": "markdown",
   "id": "0a1142c1",
   "metadata": {},
   "source": [
    "Jeśli skrypt zawiera w sobie jakąś długą operację, jej postępo może być łatwo raportowany przy użyciu komponentu `st.progress`. Przeanalizuj poniższy przykład, zwróć szczególną uwagę na użycie komponentu `st.empty` jako tzw. _placeholdera_."
   ]
  },
  {
   "cell_type": "code",
   "execution_count": null,
   "id": "ccb5776d",
   "metadata": {},
   "outputs": [],
   "source": [
    "import time\n",
    "\n",
    "'Here we begin a long computation'\n",
    "\n",
    "current_iteration = st.empty()\n",
    "progress_bar = st.progress(0)\n",
    "\n",
    "for i, _ in enumerate(range(100)):\n",
    "    current_iteration.text(f'Iteration {i+1}')\n",
    "    progress_bar.progress(i+1)\n",
    "    time.sleep(0.1)\n",
    "    \n",
    "'Finally, computation is completed.'"
   ]
  },
  {
   "cell_type": "markdown",
   "id": "578da1b7",
   "metadata": {},
   "source": [
    "# Komponenty zaawansowane"
   ]
  },
  {
   "cell_type": "raw",
   "id": "8fb1849b",
   "metadata": {},
   "source": []
  },
  {
   "cell_type": "markdown",
   "id": "3f686586",
   "metadata": {},
   "source": [
    "W poniższym przykładzie wygenerujemy fikcyjne zamówienia Ubera na terenie Poznania i zapoznamy się z bardziej zaawansowanymi sposobami wizualizacji danych. Utwórz nowy plik `uber_app.py` i umieść w nim następujący kod:"
   ]
  },
  {
   "cell_type": "code",
   "execution_count": null,
   "id": "f4e5e491",
   "metadata": {},
   "outputs": [],
   "source": [
    "import streamlit as st\n",
    "import pandas as pd\n",
    "import numpy as np\n",
    "import random\n",
    "\n",
    "from datetime import datetime, timedelta\n",
    "\n",
    "st.title('Uber pickups in Poznan')\n",
    "\n",
    "def generate_data(n_rows: int = 100) -> pd.DataFrame:\n",
    "    end = datetime.now()\n",
    "    start = end - timedelta(days=100)\n",
    "    \n",
    "    dates = [\n",
    "        random.random() * (end - start) + start \n",
    "        for _ in range(n_rows)\n",
    "    ]\n",
    "    \n",
    "    lat = np.random.uniform(52.36, 52.46, n_rows)\n",
    "    lon = np.random.uniform(16.85, 17.00, n_rows)\n",
    "    \n",
    "    return pd.DataFrame({\n",
    "        'date': dates,\n",
    "        'lat': lat,\n",
    "        'lon': lon\n",
    "    })\n",
    "\n",
    "data = generate_data(n_rows=500)\n",
    "\n",
    "data"
   ]
  },
  {
   "cell_type": "markdown",
   "id": "5ed08231",
   "metadata": {},
   "source": [
    "Funkcja `generate_data()` jest przykładem funkcji, której wyniki mogłyby być zapisane w pamięci podręcznej aby przyspieszyć wykonywanie skryptu. Streamlit wykonuje cały skrypt przy zajściu jakiejkolwiek zmiany, więc przyspieszenie wykonywania takich fragmentów skryptu ma niebagatelne znaczenie. \n",
    "\n",
    "- zmień liczbę generowanych punktów na: 200, 1000, 10000 i zaobserwuj czas potrzebny na załadowanie strony\n",
    "- udekoruj funkcję dekoratorem `@st.cache` i porównaj czas ładowania strony"
   ]
  },
  {
   "cell_type": "markdown",
   "id": "e233ef2b",
   "metadata": {},
   "source": [
    "W tej chwili liczba generowanych punktów danych jest ustawiona \"na sztywno\" na 500. Dodajmy pole tekstowe umożliwiające użytkownikowi podanie tej liczby samodzielnie. Zmodyfikuj powyższy kod tak, żeby możliwe było przekazanie do skryptu pożądanej liczby punktów. Wykorzystaj w tym celu komponent [number_input](https://docs.streamlit.io/en/stable/api.html#streamlit.number_input)"
   ]
  },
  {
   "cell_type": "code",
   "execution_count": null,
   "id": "e0abca53",
   "metadata": {},
   "outputs": [],
   "source": [
    "def generate_data(...):\n",
    "    ...\n",
    "    \n",
    "n_rows = st.number_input(\n",
    "    label='How many points to generate?',\n",
    "    min_value=1,\n",
    "    max_value=100000,\n",
    "    value=1000\n",
    ")\n",
    "\n",
    "data = generate_data(n_rows=n_rows)"
   ]
  },
  {
   "cell_type": "markdown",
   "id": "a1352f02",
   "metadata": {},
   "source": [
    "Dodajmy jeszcze opcję wyświetlenia obok mapy surowych danych"
   ]
  },
  {
   "cell_type": "code",
   "execution_count": null,
   "id": "fb9c08e5",
   "metadata": {},
   "outputs": [],
   "source": [
    "if st.checkbox(\"Show raw data?\"):\n",
    "    st.subheader('Raw data')\n",
    "    st.dataframe(data)"
   ]
  },
  {
   "cell_type": "markdown",
   "id": "d81c0641",
   "metadata": {},
   "source": [
    "Streamlit pozwala na dołączanie praktycznie wszystkich rodzajów wykresów do aplikacji. Obsługuje wykresy generowane przez Matplotlib, Altaira, Bokeh, GraphViz i wiele innych. W następnym kroku wyznaczymy histogramy wołań samochodów z dokładnością do godziny i je wyświetlimy"
   ]
  },
  {
   "cell_type": "code",
   "execution_count": null,
   "id": "9ee5c0c5",
   "metadata": {},
   "outputs": [],
   "source": [
    "hist_vals = np.histogram(data.date.dt.hour, bins=24)[0]\n",
    "\n",
    "st.bar_chart(hist_vals)"
   ]
  },
  {
   "cell_type": "markdown",
   "id": "51d82fe3",
   "metadata": {},
   "source": [
    "Wygodnym sposobem wygenerowania filtru dla danych numerycznych jest komponent `st.slider`. Pozwolimy teraz użytkownikom zawęzić zakres wyświetlanych godzin."
   ]
  },
  {
   "cell_type": "code",
   "execution_count": null,
   "id": "2b981b09",
   "metadata": {},
   "outputs": [],
   "source": [
    "hour_filter = st.slider('hour', 0, 23, 17)\n",
    "\n",
    "df_filtered = data[data.date.dt.hour == hour_filter]\n",
    "\n",
    "st.subheader(f'Map of all uber pickups at {hour_filter}:00')\n",
    "\n",
    "st.map(df_filtered)"
   ]
  },
  {
   "cell_type": "markdown",
   "id": "746dae89",
   "metadata": {},
   "source": [
    "W tej chwili komponent `st.slider` pozwala na wybór tylko jednej wartości. Jeśli chcemy wykorzystać przedział godzin do wygenerowania mapy, możemy wykorzystać w tym celu komponent `st.select_slider` ([link do API](https://docs.streamlit.io/en/stable/api.html#streamlit.select_slider))."
   ]
  },
  {
   "cell_type": "code",
   "execution_count": null,
   "id": "4d7ae3b1",
   "metadata": {},
   "outputs": [],
   "source": [
    "min_hour, max_hour = st.select_slider(\n",
    "    label='hours', \n",
    "    options=range(24),\n",
    "    value=(7,16)\n",
    "\n",
    "filter_idx = (data.date.dt.hour >= min_hour) & (data.date.dt.hour <= max_hour)\n",
    "df_filtered = data[filter_idx]\n",
    "\n",
    "st.subheader(f'Map of all uber pickups between {min_hour}:00 and {max_hour}:00')\n",
    "\n",
    "st.map(df_filtered)"
   ]
  },
  {
   "cell_type": "markdown",
   "id": "9364fd7a",
   "metadata": {},
   "source": [
    "Dotychczas wszystkie komponenty reagowały natychmiast na zmiany, co uniemożliwiało jednoczesne zgłoszenie wielu zmiennych. Rozwiązaniem jest wykorzystanie komponentu `st.form` ([link do API](https://docs.streamlit.io/en/latest/api.html#streamlit.form))"
   ]
  },
  {
   "cell_type": "code",
   "execution_count": null,
   "id": "1fc07f43",
   "metadata": {},
   "outputs": [],
   "source": [
    "with st.form(key='my_form'):\n",
    "    name_input = st.text_input('Name:')\n",
    "    dob_input = st.date_input('Date of birth:')\n",
    "    weight_input = st.number_input('Weight (kg):')\n",
    "    height_input = st.number_input('Height (cm):')\n",
    "    \n",
    "    submit_btn = st.form_submit_button('Compute BMI')\n",
    "    \n",
    "if submit_btn:\n",
    "    bmi = weight_input / (height_input/100)**2\n",
    "    st.write(f'Hello {name_input}, your BMI={bmi:.2%f})"
   ]
  },
  {
   "cell_type": "markdown",
   "id": "8f436386",
   "metadata": {},
   "source": [
    "Już wcześniej spotkaliśmy się z koniecznością wykorzystania _placeholdera_ do zapewnienia sobie miejsca na wstawienie danych do wcześniejszego miejsca w skrypcie aplikacji. Poniższy przykład pokazuje sposób obsługi takich komponentów."
   ]
  },
  {
   "cell_type": "code",
   "execution_count": null,
   "id": "4e292f3a",
   "metadata": {},
   "outputs": [],
   "source": [
    "st.text('First line')\n",
    "\n",
    "empty_text = st.empty()\n",
    "empty_chart = st.empty()\n",
    "\n",
    "st.text('Fourth line')\n",
    "\n",
    "empty_text.text('Second line')\n",
    "\n",
    "empty_chart.line_chart(np.random.randn(50,2))"
   ]
  },
  {
   "cell_type": "markdown",
   "id": "24c1fdf2",
   "metadata": {},
   "source": [
    "Wszystkie komponenty w Streamlit są dynamiczne i można je swobodnie modyfikować. Poniższy przykład pokazuje, jak można zmieniać istniejacy wykres."
   ]
  },
  {
   "cell_type": "code",
   "execution_count": null,
   "id": "71dfe5b7",
   "metadata": {},
   "outputs": [],
   "source": [
    "j"
   ]
  },
  {
   "cell_type": "markdown",
   "id": "8925aa11",
   "metadata": {},
   "source": [
    "W nagrodę za osiągnięcie tego punktu w tutorialu dodaj na końcu skryptu poniższą komendę:"
   ]
  },
  {
   "cell_type": "code",
   "execution_count": null,
   "id": "bdad4bcd",
   "metadata": {},
   "outputs": [],
   "source": [
    "st.balloons()"
   ]
  },
  {
   "cell_type": "markdown",
   "id": "3fb5c50d",
   "metadata": {},
   "source": [
    "# Tworzenie własnych komponentów\n",
    "\n",
    "Streamlit jest bardzo elastycznym środowiskiem, w którym stosunkowo łatwo możemy stworzyć swój własny komponent. Będzie to wymagało jednak oprogramowania zarówno front-endu, jak i back-endu.\n",
    "\n",
    "W pierwszej kolejności sklonuj lokalnie repozytorium [https://github.com/streamlit/component-template](https://github.com/streamlit/component-template) i zainstaluj potrzebne pakiety npm oraz uruchom serwer webpack."
   ]
  },
  {
   "cell_type": "markdown",
   "id": "d1d4cb8e",
   "metadata": {},
   "source": [
    "```bash\n",
    "bash$ git clone https://github.com/streamlit/component-template\n",
    "\n",
    "bash$ cd component-template/template/my_component/frontend\n",
    "\n",
    "bash$ npm install\n",
    "\n",
    "bash$ npm run start\n",
    "```"
   ]
  },
  {
   "cell_type": "markdown",
   "id": "e9dd2754",
   "metadata": {},
   "source": [
    "Przejdź do katalogu `component-template/template/my_component` i zmodyfikuj plik `__init__.py`. Umieść w nim poniższy kod"
   ]
  },
  {
   "cell_type": "code",
   "execution_count": null,
   "id": "006d05b1",
   "metadata": {},
   "outputs": [],
   "source": [
    "import os\n",
    "import streamlit as st\n",
    "import streamlit.components.v1 as components\n",
    "\n",
    "st.title('My component example')\n",
    "\n",
    "_component_func = components.declare_component(\n",
    "    \"my_component\",\n",
    "    url=\"http://localhost:3001\",\n",
    ")\n",
    "\n",
    "def my_component(start, key=None):\n",
    "    component_value = _component_func(start=start, key=key, default=100)\n",
    "\n",
    "    return component_value\n",
    "\n",
    "counter = my_component(10)\n",
    "\n",
    "st.markdown(f\"You have {counter} clicks left!\")"
   ]
  },
  {
   "cell_type": "markdown",
   "id": "1c3e6e1b",
   "metadata": {},
   "source": [
    "Otwórz nowy terminal i uruchom aplikację komponentu\n",
    "\n",
    "```bash\n",
    "bash$ streamlit run component-template/my_component/__init__.py\n",
    "```"
   ]
  },
  {
   "cell_type": "markdown",
   "id": "92162765",
   "metadata": {},
   "source": [
    "Następnie przejdź do katalogu `component-template/template/my_component/fronend/src/MyComponent.tsx` i umieść poniższy kod:"
   ]
  },
  {
   "cell_type": "code",
   "execution_count": null,
   "id": "4e85ba08",
   "metadata": {},
   "outputs": [],
   "source": [
    "import {\n",
    "  Streamlit,\n",
    "  StreamlitComponentBase,\n",
    "  withStreamlitConnection,\n",
    "} from \"streamlit-component-lib\"\n",
    "import React, { ReactNode } from \"react\"\n",
    "\n",
    "interface State {\n",
    "  counter: number\n",
    "}\n",
    "\n",
    "class MyComponent extends StreamlitComponentBase<State> {\n",
    "  public state = { counter: this.props.args['start'] }\n",
    "\n",
    "  public render = (): ReactNode => {\n",
    "\n",
    "    return (\n",
    "      <span>\n",
    "        Clicks remaining: {this.state.counter} &nbsp;\n",
    "        <button\n",
    "          onClick={this.onClicked}\n",
    "        >\n",
    "          Click me!\n",
    "        </button>\n",
    "      </span>\n",
    "    )\n",
    "  }\n",
    "\n",
    "  private onClicked = (): void => {\n",
    "    if (this.state.counter > 0) {\n",
    "        this.setState(\n",
    "        prevState => ({ counter: prevState.counter - 1 }),\n",
    "        () => Streamlit.setComponentValue(this.state.counter)\n",
    "        )\n",
    "    } \n",
    "  }\n",
    "}\n",
    "\n",
    "export default withStreamlitConnection(MyComponent)"
   ]
  },
  {
   "cell_type": "markdown",
   "id": "1784d589",
   "metadata": {},
   "source": [
    "# Zadanie samodzielne\n",
    "\n",
    "Załaduj z biblioteki `scikit-learn` zbioór danych o [mieszkaniach w Bostonie](https://scikit-learn.org/stable/modules/generated/sklearn.datasets.load_boston.html). Następnie przygotuj analizę, na którą będą się składać:\n",
    "\n",
    "- wyświetlenie zbioru danych\n",
    "- możliwość wyświetlenia tylko tych nieruchomości, które leżą nad rzeką (checkbox)\n",
    "- filtr pozwalający na wskazanie zakresu podatku\n",
    "- wykres pokazujący rozkład średnich wartości domów\n",
    "- prosty model regresji (np. drzewo decyzyjne) który wyznacza wartość domu na podstawie wybranego podzbioru 3 parametrów\n",
    "- formularz przyjmujący wybrane parametry i wyświetlający predykcję wartości domu"
   ]
  },
  {
   "cell_type": "code",
   "execution_count": null,
   "id": "15cddda6",
   "metadata": {},
   "outputs": [],
   "source": []
  }
 ],
 "metadata": {
  "kernelspec": {
   "display_name": "Python 3 (ipykernel)",
   "language": "python",
   "name": "python3"
  },
  "language_info": {
   "codemirror_mode": {
    "name": "ipython",
    "version": 3
   },
   "file_extension": ".py",
   "mimetype": "text/x-python",
   "name": "python",
   "nbconvert_exporter": "python",
   "pygments_lexer": "ipython3",
   "version": "3.9.7"
  },
  "toc": {
   "base_numbering": 1,
   "nav_menu": {},
   "number_sections": false,
   "sideBar": true,
   "skip_h1_title": false,
   "title_cell": "Table of Contents",
   "title_sidebar": "Contents",
   "toc_cell": false,
   "toc_position": {},
   "toc_section_display": true,
   "toc_window_display": false
  },
  "varInspector": {
   "cols": {
    "lenName": 16,
    "lenType": 16,
    "lenVar": 40
   },
   "kernels_config": {
    "python": {
     "delete_cmd_postfix": "",
     "delete_cmd_prefix": "del ",
     "library": "var_list.py",
     "varRefreshCmd": "print(var_dic_list())"
    },
    "r": {
     "delete_cmd_postfix": ") ",
     "delete_cmd_prefix": "rm(",
     "library": "var_list.r",
     "varRefreshCmd": "cat(var_dic_list()) "
    }
   },
   "types_to_exclude": [
    "module",
    "function",
    "builtin_function_or_method",
    "instance",
    "_Feature"
   ],
   "window_display": false
  }
 },
 "nbformat": 4,
 "nbformat_minor": 5
}
